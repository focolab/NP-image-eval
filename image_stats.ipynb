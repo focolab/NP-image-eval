{
 "cells": [
  {
   "attachments": {},
   "cell_type": "markdown",
   "metadata": {},
   "source": [
    "### Image statistics"
   ]
  },
  {
   "cell_type": "code",
   "execution_count": 4,
   "metadata": {},
   "outputs": [],
   "source": [
    "import pandas as pd\n",
    "import matplotlib.pyplot as plt\n",
    "import numpy as np\n",
    "import scipy.io as sio\n",
    "import utils.utils as uti\n",
    "import process.file as f\n",
    "import os\n",
    "import qtpy"
   ]
  },
  {
   "attachments": {},
   "cell_type": "markdown",
   "metadata": {},
   "source": [
    "### Plotting pixel level image statistics"
   ]
  },
  {
   "cell_type": "code",
   "execution_count": 6,
   "metadata": {},
   "outputs": [],
   "source": [
    "def get_stats_FOCO(folder, channels):\n",
    "    df = pd.DataFrame()\n",
    "    for fold in os.listdir(folder):\n",
    "        if not fold[0:3] == '.DS':\n",
    "            for file in os.listdir(folder+'/'+fold):\n",
    "                if file[-4:] == '.mat':\n",
    "                    imfile = sio.loadmat(folder+'/'+fold +'/'+file)\n",
    "\n",
    "                    data = imfile['data']\n",
    "                    channels = channels\n",
    "                    RGBW = np.squeeze(data[:,:,:, channels])\n",
    "\n",
    "                    RGBW_flat = RGBW.reshape(-1, RGBW.shape[-1])\n",
    "\n",
    "                    min = np.amin(RGBW, axis = (0,1,2))\n",
    "                    max = np.amax(RGBW, axis = (0,1,2))\n",
    "                    mean = np.mean(RGBW, axis = (0,1,2))\n",
    "                    std = np.std(RGBW, axis = (0,1,2))\n",
    "\n",
    "                    corr = np.corrcoef(RGBW_flat, rowvar= False)\n",
    "                    RG_co = corr[0][1]\n",
    "                    RB_co = corr[0][2]\n",
    "                    RW_co = corr[0][3]\n",
    "                    GB_co = corr[1][2]\n",
    "                    GW_co = corr[1][3]\n",
    "                    BW_co = corr[2][3]\n",
    "\n",
    "                    per_ID, per_correct, per_correct2, correctID, corrID2 = uti.check_accuracy(f.proc_FOCO(folder+'/'+fold))\n",
    "\n",
    "                    new_row = pd.DataFrame({'folder':fold,'name':file, 'min':[min], 'max': [max], 'mean': [mean], 'std':[std], 'RG coef': RG_co, 'RB coef': RB_co, 'RW coef': RW_co, 'GB coef': GB_co, 'GW coef': GW_co, 'BW coef':BW_co})\n",
    "\n",
    "                    df = pd.concat([df, new_row], ignore_index=True)\n",
    "    return df\n",
    "\n",
    "def get_stats_NP(folder):\n",
    "    df = pd.DataFrame()\n",
    "\n",
    "    for file in os.listdir(folder):\n",
    "        if file[-9:] == 'YAaLR.mat' or file[-9:] == 'YAaDV.mat':\n",
    "            imfile = sio.loadmat(folder+'/'+file)\n",
    "\n",
    "            data = imfile['data']\n",
    "            channels = imfile['prefs']['RGBW'][0][0]-1\n",
    "            RGBW = np.squeeze(data[:,:,:, channels])/16\n",
    "\n",
    "            RGBW_flat = RGBW.reshape(-1, RGBW.shape[-1])\n",
    "\n",
    "            min = np.amin(RGBW, axis = (0,1,2))\n",
    "            max = np.amax(RGBW, axis = (0,1,2))\n",
    "            mean = np.mean(RGBW, axis = (0,1,2))\n",
    "            std = np.std(RGBW, axis = (0,1,2))\n",
    "\n",
    "            corr = np.corrcoef(RGBW_flat, rowvar= False)\n",
    "            RG_co = corr[0][1]\n",
    "            RB_co = corr[0][2]\n",
    "            RW_co = corr[0][3]\n",
    "            GB_co = corr[1][2]\n",
    "            GW_co = corr[1][3]\n",
    "            BW_co = corr[2][3]\n",
    "\n",
    "            new_row = pd.DataFrame({'folder':file[:-4],'name':file, 'min':[min], 'max': [max], 'mean': [mean], 'std':[std], 'RG coef': RG_co, 'RB coef': RB_co, 'RW coef': RW_co, 'GB coef': GB_co, 'GW coef': GW_co, 'BW coef':BW_co})\n",
    "\n",
    "            df = pd.concat([df, new_row], ignore_index=True)\n",
    "    \n",
    "    return df\n",
    "\n",
    "def get_stats_Chaud(folder):\n",
    "    df = pd.DataFrame()\n",
    "\n",
    "    for fold in os.listdir(folder):\n",
    "        if not fold[0:3] == '.DS':\n",
    "            for file in os.listdir(folder+'/'+fold):\n",
    "                if file[-4:] == '.mat':\n",
    "                    imfile = sio.loadmat(folder+'/'+fold +'/'+file)\n",
    "                    print(fold)\n",
    "                    print(file)\n",
    "\n",
    "                    data = imfile['data']\n",
    "                    channels = imfile['prefs']['RGBW'][0][0]-1\n",
    "                    RGBW = np.squeeze(data[:,:,:, channels])/16\n",
    "\n",
    "                    RGBW_flat = RGBW.reshape(-1, RGBW.shape[-1])\n",
    "\n",
    "                    min = np.amin(RGBW, axis = (0,1,2))\n",
    "                    max = np.amax(RGBW, axis = (0,1,2))\n",
    "                    mean = np.mean(RGBW, axis = (0,1,2))\n",
    "                    std = np.std(RGBW, axis = (0,1,2))\n",
    "\n",
    "                    corr = np.corrcoef(RGBW_flat, rowvar= False)\n",
    "                    RG_co = corr[0][1]\n",
    "                    RB_co = corr[0][2]\n",
    "                    RW_co = corr[0][3]\n",
    "                    GB_co = corr[1][2]\n",
    "                    GW_co = corr[1][3]\n",
    "                    BW_co = corr[2][3]\n",
    "\n",
    "                    #per_ID, per_correct, per_correct2, correctID, corrID2 = uti.check_accuracy(f.proc_Chaud(folder+'/'+fold))\n",
    "\n",
    "                    new_row = pd.DataFrame({'folder':fold,'name':file, 'min':[min], 'max': [max], 'mean': [mean], 'std':[std], 'RG coef': RG_co, 'RB coef': RB_co, 'RW coef': RW_co, 'GB coef': GB_co, 'GW coef': GW_co, 'BW coef':BW_co})\n",
    "                    df = pd.concat([df, new_row], ignore_index=True)\n",
    "    return df\n",
    "        \n"
   ]
  },
  {
   "cell_type": "code",
   "execution_count": 7,
   "metadata": {},
   "outputs": [
    {
     "name": "stdout",
     "output_type": "stream",
     "text": [
      "9\n",
      "Composite.mat\n",
      "7\n",
      "Composite.mat\n",
      "6\n",
      "Composite.mat\n",
      "1\n",
      "Composite.mat\n",
      "8\n",
      "Composite.mat\n",
      "4\n",
      "Composite.mat\n",
      "3\n",
      "Composite.mat\n",
      "2\n",
      "Composite.mat\n",
      "5\n",
      "Composite.mat\n"
     ]
    }
   ],
   "source": [
    "datapath = '/Users/danielysprague/foco_lab/data/'\n",
    "FOCO_df = get_stats_FOCO(datapath+'NP_FOCO_median', [0,2,4,1])\n",
    "#Resample_df = get_stats_FOCO('data/NP_foco_resample', [0,1,2,3])\n",
    "NP_df = get_stats_NP(datapath+'NP_paper/all')\n",
    "chaud_df = get_stats_Chaud(datapath+ 'NP_chaudhary')\n"
   ]
  },
  {
   "cell_type": "code",
   "execution_count": 8,
   "metadata": {},
   "outputs": [],
   "source": [
    "\n",
    "def plot_corr_coefs(data, labels):\n",
    "    fig, ax = plt.subplots(2,3)\n",
    "    ax[0,0].boxplot([df['RG coef'] for df in data], labels = labels)\n",
    "    ax[0,0].set_title('RG corr coef')\n",
    "    ax[0,1].boxplot([df['RB coef'] for df in data], labels = labels)\n",
    "    ax[0,1].set_title('RB corr coef')\n",
    "    ax[0,2].boxplot([df['RW coef'] for df in data], labels = labels)\n",
    "    ax[0,2].set_title('RW corr coef')\n",
    "    ax[1,0].boxplot([df['GB coef'] for df in data], labels = labels)\n",
    "    ax[1,0].set_title('GB corr coef')\n",
    "    ax[1,1].boxplot([df['GW coef'] for df in data], labels = labels)\n",
    "    ax[1,1].set_title('GW corr coef')\n",
    "    ax[1,2].boxplot([df['BW coef'] for df in data], labels = labels)\n",
    "    ax[1,2].set_title('BW corr coef')\n",
    "\n",
    "    plt.show()\n",
    "\n",
    "\n",
    "plot_corr_coefs([FOCO_df, NP_df, chaud_df], ['FOCO', 'NP', 'Chaudhary'])"
   ]
  },
  {
   "cell_type": "code",
   "execution_count": 9,
   "metadata": {},
   "outputs": [],
   "source": [
    "\n",
    "\n",
    "def plot_corr_acc(df):\n",
    "    fig, ax = plt.subplots(2,3)\n",
    "\n",
    "    ax[0,0].scatter(df['RG coef'], df['acc'])\n",
    "    ax[0,0].set_title('RG coef vs accuracy')\n",
    "    ax[0,0].set_ylabel('correlation coefficient')\n",
    "    ax[0,0].set_xlabel('percent accuracy')\n",
    "    ax[0,1].scatter(df['RB coef'], df['acc'])\n",
    "    ax[0,1].set_title('RB coef vs accuracy')\n",
    "    ax[0,1].set_xlabel('percent accuracy')\n",
    "    ax[0,2].scatter(df['RW coef'], df['acc'])\n",
    "    ax[0,2].set_title('RW coef vs accuracy')\n",
    "    ax[0,2].set_xlabel('percent accuracy')\n",
    "    ax[1,0].scatter(df['GB coef'], df['acc'])\n",
    "    ax[1,0].set_title('GB coef vs accuracy')\n",
    "    ax[1,0].set_xlabel('percent accuracy')\n",
    "    ax[1,0].set_ylabel('correlation coefficient')\n",
    "    ax[1,1].scatter(df['GW coef'], df['acc'])\n",
    "    ax[1,1].set_title('GW coef vs accuracy')\n",
    "    ax[1,1].set_xlabel('percent accuracy')\n",
    "    ax[1,2].scatter(df['BW coef'], df['acc'])\n",
    "    ax[1,2].set_title('BW coef vs accuracy')\n",
    "    ax[1,2].set_xlabel('percent accuracy')\n",
    "\n",
    "    plt.tight_layout()\n",
    "    plt.show()"
   ]
  },
  {
   "cell_type": "code",
   "execution_count": 10,
   "metadata": {},
   "outputs": [],
   "source": [
    "def plot_image_stats(data, labels):\n",
    "\n",
    "    fig, ax = plt.subplots(2,4)\n",
    "\n",
    "    for i, df in enumerate(data):\n",
    "\n",
    "        ax[0,0].scatter(np.stack(df['mean'])[:,0], np.stack(df['mean'])[:,1], label = labels[i], alpha=0.5)\n",
    "        ax[1,0].scatter(np.stack(df['mean'])[:,2], np.stack(df['mean'])[:,3], label = labels[i], alpha=0.5)\n",
    "        ax[0,1].scatter(np.stack(df['min'])[:,0], np.stack(df['min'])[:,1], label = labels[i], alpha=0.5)\n",
    "        ax[1,1].scatter(np.stack(df['min'])[:,2], np.stack(df['min'])[:,3], label = labels[i], alpha=0.5)\n",
    "        ax[0,2].scatter(np.stack(df['std'])[:,0], np.stack(df['std'])[:,1], label = labels[i], alpha=0.5)\n",
    "        ax[1,2].scatter(np.stack(df['std'])[:,2], np.stack(df['std'])[:,3], label = labels[i], alpha=0.5)\n",
    "        ax[0,3].scatter(np.stack(df['max'])[:,0], np.stack(df['max'])[:,1], label = labels[i], alpha=0.5)\n",
    "        ax[1,3].scatter(np.stack(df['max'])[:,2], np.stack(df['max'])[:,3], label = labels[i], alpha=0.5)\n",
    "\n",
    "    ax[0,0].set_aspect('equal')\n",
    "    ax[0,0].set_xlim(0,150)\n",
    "    ax[0,0].set_ylim(0,150)\n",
    "    ax[0,0].set_title('RG means')\n",
    "    ax[0,0].set_xlabel('R channel means')\n",
    "    ax[0,0].set_ylabel('G channel means')\n",
    "    ax[0,0].legend()\n",
    "    ax[1,0].set_aspect('equal')\n",
    "    ax[1,0].set_xlim(0,150)\n",
    "    ax[1,0].set_ylim(0,150)\n",
    "    ax[1,0].set_title('BW means')\n",
    "    ax[1,0].set_xlabel('B channel means')\n",
    "    ax[1,0].set_ylabel('W channel means')\n",
    "    ax[0,1].set_aspect('equal')\n",
    "    ax[0,1].set_xlim(0,100)\n",
    "    ax[0,1].set_ylim(0,100)\n",
    "    ax[0,1].set_title('RG mins')\n",
    "    ax[0,1].set_xlabel('R channel min')\n",
    "    ax[0,1].set_ylabel('G channel min')\n",
    "    ax[1,1].set_aspect('equal')\n",
    "    ax[1,1].set_xlim(0,100)\n",
    "    ax[1,1].set_ylim(0,100)\n",
    "    ax[1,1].set_title('BW min')\n",
    "    ax[1,1].set_xlabel('B channel min')\n",
    "    ax[1,1].set_ylabel('W channel min')\n",
    "    ax[0,2].set_aspect('equal')\n",
    "    ax[0,2].set_xlim(0,500)\n",
    "    ax[0,2].set_ylim(0,500)\n",
    "    ax[0,2].set_title('RG stds')\n",
    "    ax[0,2].set_xlabel('R channel stds')\n",
    "    ax[0,2].set_ylabel('G channel stds')\n",
    "    ax[1,2].set_aspect('equal')\n",
    "    ax[1,2].set_xlim(0,500)\n",
    "    ax[1,2].set_ylim(0,500)\n",
    "    ax[1,2].set_title('BW stds')\n",
    "    ax[1,2].set_xlabel('B channel stds')\n",
    "    ax[1,2].set_ylabel('W channel stds')    \n",
    "    ax[0,3].set_aspect('equal')\n",
    "    ax[0,3].set_xlim(0,5000)\n",
    "    ax[0,3].set_ylim(0,5000)\n",
    "    ax[0,3].set_title('RG max')\n",
    "    ax[0,3].set_xlabel('R channel max')\n",
    "    ax[0,3].set_ylabel('G channel max')\n",
    "    ax[1,3].set_aspect('equal')\n",
    "    ax[1,3].set_xlim(0,5000)\n",
    "    ax[1,3].set_ylim(0,5000)\n",
    "    ax[1,3].set_title('BW max')\n",
    "    ax[1,3].set_xlabel('B channel max')\n",
    "    ax[1,3].set_ylabel('W channel max')\n",
    "\n",
    "    plt.tight_layout()\n",
    "    plt.show()"
   ]
  },
  {
   "cell_type": "code",
   "execution_count": 11,
   "metadata": {},
   "outputs": [
    {
     "name": "stdout",
     "output_type": "stream",
     "text": [
      "9\n"
     ]
    }
   ],
   "source": [
    "print(len(chaud_df))"
   ]
  },
  {
   "cell_type": "code",
   "execution_count": 12,
   "metadata": {},
   "outputs": [],
   "source": [
    "plot_image_stats([FOCO_df, chaud_df, NP_df], ['FOCO_median', 'Chaudhary', 'NP'])"
   ]
  },
  {
   "attachments": {},
   "cell_type": "markdown",
   "metadata": {},
   "source": [
    "### Histogram evaluation and equalization"
   ]
  },
  {
   "cell_type": "code",
   "execution_count": 2,
   "metadata": {},
   "outputs": [],
   "source": [
    "def generate_histograms(image, scale):\n",
    "    \n",
    "    image = np.asarray(image)\n",
    "\n",
    "    im_flat = image.reshape(-1, image.shape[-1])\n",
    "\n",
    "    fig, axs = plt.subplots(2,2)\n",
    "\n",
    "    for i, ax1 in enumerate(axs):\n",
    "        for j, ax in enumerate(ax1):\n",
    "\n",
    "            hist, bins = np.histogram(im_flat[:,i*2+j], 256, [0, 256*scale] )\n",
    "            cdf = hist.cumsum()\n",
    "            cdf_normalized = cdf * hist.max()/cdf.max()\n",
    "            ax.axvline(np.max(im_flat[:,i*2+j]),linestyle='--') \n",
    "            ax.plot(cdf_normalized, color = 'b')\n",
    "            ax.hist(im_flat[:,i*2+j], bins= np.arange(256)*scale, color= 'red')\n",
    "            ax.set_xlabel('color channel gray count')\n",
    "            ax.set_ylabel('pixel count')\n",
    "            ax.set_xlim([0,256*scale])\n",
    "            ax.legend(('max value', 'cdf', 'hist'), loc = 'upper right')\n",
    "    \n",
    "    axs[0,0].set_title('red histogram')\n",
    "    axs[0,1].set_title('green histogram')\n",
    "    axs[1,0].set_title('blue histogram')\n",
    "    axs[1,1].set_title('white histogram')\n",
    "\n",
    "    plt.show()\n"
   ]
  },
  {
   "cell_type": "code",
   "execution_count": 56,
   "metadata": {},
   "outputs": [],
   "source": [
    "%matplotlib qt\n",
    "imfile = sio.loadmat('data/NP_FOCO_cropped/2021-12-03-w00-NP1/neuropal_1_MMStack_Pos0.ome.mat')\n",
    "data = imfile['data']\n",
    "channels = [0,2,4,1]\n",
    "RGBW = np.squeeze(data[:,:,:, channels])\n",
    "\n",
    "generate_histograms(RGBW, 16)"
   ]
  },
  {
   "cell_type": "code",
   "execution_count": 22,
   "metadata": {},
   "outputs": [],
   "source": [
    "%matplotlib qt\n",
    "\n",
    "imfile = sio.loadmat('data/NP_paper/all/7_YAaLR.mat')\n",
    "data = imfile['data']\n",
    "channels = imfile['prefs']['RGBW'][0][0]-1\n",
    "RGBW = np.squeeze(data[:,:,:, channels])\n",
    "\n",
    "generate_histograms(RGBW, 256)"
   ]
  },
  {
   "cell_type": "code",
   "execution_count": 13,
   "metadata": {},
   "outputs": [],
   "source": [
    "def equalize_hist(RGBW, threshs):\n",
    "    '''\n",
    "    thresh defines value above which to perform the histogram equalization\n",
    "    loop through each pixel in image and transform based on histogram equalization\n",
    "    '''\n",
    "\n",
    "    size = RGBW.shape\n",
    "\n",
    "    RGBW_new = np.zeros(size)\n",
    "\n",
    "    flat = RGBW.reshape(-1, RGBW.shape[-1])\n",
    "\n",
    "    for l in range(size[3]):\n",
    "        channel = flat[:,l]\n",
    "\n",
    "        thresh = threshs[l]\n",
    "        \n",
    "        hist_to_eq = channel[np.where(channel>=thresh)]\n",
    "        N = len(hist_to_eq)\n",
    "        num_bins = 4096-thresh\n",
    "        hist, bins = np.histogram(hist_to_eq, num_bins, [thresh, 4096])\n",
    "        cdf = hist.cumsum()\n",
    "        \n",
    "        for i in range(size[0]):\n",
    "            for j in range(size[1]):\n",
    "                for k in range(size[2]):\n",
    "                        val = RGBW[i,j,k,l]\n",
    "\n",
    "                        if val >= thresh:\n",
    "                            val_index = np.where(bins==val)\n",
    "                            cum_prob = cdf[val_index]/N\n",
    "                            new_val = np.round(cum_prob*(num_bins-1))+thresh\n",
    "\n",
    "                            RGBW_new[i,j,k,l] = new_val\n",
    "                        \n",
    "                        else:\n",
    "                            RGBW_new[i,j,k,l] = val\n",
    "\n",
    "    return RGBW_new"
   ]
  },
  {
   "cell_type": "code",
   "execution_count": 15,
   "metadata": {},
   "outputs": [
    {
     "name": "stdout",
     "output_type": "stream",
     "text": [
      "2022-04-26-w00-NP1\n",
      "2022-04-26-w01-NP1\n",
      "2021-12-03-w00-NP1\n",
      "2022-02-22-w04-NP1\n",
      "2022-04-01-w00-NP1\n",
      "2022-03-05-w00-NP1\n",
      "2022-02-12-w00-NP1\n",
      "2022-02-12-w01-NP1\n",
      "2022-01-22-w04-NP1\n",
      "2022-02-11-w03-NP1\n"
     ]
    }
   ],
   "source": [
    "import utils.utils as uti\n",
    "import process.file as f\n",
    "\n",
    "hist_df = pd.DataFrame()\n",
    "\n",
    "for folder in os.listdir('data/NP_foco_cropped'):\n",
    "    if not folder[0:3] == '.DS':\n",
    "        for file in os.listdir('data/NP_foco_cropped/'+folder):\n",
    "            if file[-4:] == '.mat':\n",
    "                print(folder)\n",
    "                imfile = sio.loadmat('data/NP_foco_cropped/'+folder +'/'+file)\n",
    "\n",
    "                data = imfile['data']\n",
    "                channels = [0,2,4,1]\n",
    "                RGBW = np.squeeze(data[:,:,:, channels])\n",
    "                RGBW = RGBW.astype('int32')\n",
    "\n",
    "                RGBW_shift = np.maximum(np.zeros(RGBW.shape), RGBW-80) #moves all values back -80 and then truncates to 0\n",
    "\n",
    "                RGBW_flat = RGBW.reshape(-1, RGBW.shape[-1])\n",
    "\n",
    "                RGBW_new = equalize_hist(RGBW_shift, [100, 240, 80, 50])\n",
    "\n",
    "                min = np.amin(RGBW_new, axis = (0,1,2))\n",
    "                max = np.amax(RGBW_new, axis = (0,1,2))\n",
    "                mean = np.mean(RGBW_new, axis = (0,1,2))\n",
    "                std = np.std(RGBW_new, axis = (0,1,2))\n",
    "\n",
    "                corr = np.corrcoef(RGBW_flat, rowvar= False)\n",
    "                RG_co = corr[0][1]\n",
    "                RB_co = corr[0][2]\n",
    "                RW_co = corr[0][3]\n",
    "                GB_co = corr[1][2]\n",
    "                GW_co = corr[1][3]\n",
    "                BW_co = corr[2][3]\n",
    "\n",
    "                per_ID, per_correct, per_correct2, correctID, corrID2 = uti.check_accuracy(f.proc_FOCO('data/NP_foco_cropped/'+folder))\n",
    "\n",
    "                hist_df = hist_df.append({'folder': folder, 'acc':per_correct,'min':min, 'max': max, 'mean': mean, 'std':std, 'RG coef': RG_co, 'RB coef': RB_co, 'RW coef': RW_co, 'GB coef': GB_co, 'GW coef': GW_co, 'BW coef':BW_co}, ignore_index=True)\n",
    "\n",
    "                #sio.savemat('data/NP_FOCO_hist/'+folder+'/'+'hist_equal_image.mat', {'Hist_RGBW':RGBW_new})\n"
   ]
  },
  {
   "cell_type": "code",
   "execution_count": 25,
   "metadata": {},
   "outputs": [],
   "source": [
    "%matplotlib qt\n",
    "plot_image_stats([FOCO_df, hist_df, NP_df], ['FOCO original', 'FOCO Hist Eq', 'NP paper'])\n"
   ]
  },
  {
   "cell_type": "code",
   "execution_count": 18,
   "metadata": {},
   "outputs": [
    {
     "name": "stdout",
     "output_type": "stream",
     "text": [
      "0\n",
      "1\n",
      "2\n",
      "3\n"
     ]
    },
    {
     "ename": "",
     "evalue": "",
     "output_type": "error",
     "traceback": [
      "\u001b[1;31mThe Kernel crashed while executing code in the the current cell or a previous cell. Please review the code in the cell(s) to identify a possible cause of the failure. Click <a href='https://aka.ms/vscodeJupyterKernelCrash'>here</a> for more info. View Jupyter <a href='command:jupyter.viewOutput'>log</a> for further details."
     ]
    }
   ],
   "source": [
    "imfile = sio.loadmat('data/NP_foco_cropped/2022-02-12-w00-NP1/neuropal_1_MMStack_Pos0.ome.mat')\n",
    "\n",
    "data = imfile['data']\n",
    "channels = [0,2,4,1]\n",
    "RGBW = np.squeeze(data[:,:,:, channels])\n",
    "RGBW = RGBW.astype('int32')\n",
    "\n",
    "RGBW_shift = np.maximum(np.zeros(RGBW.shape), RGBW-80) #moves all values back -80 and then truncates to 0\n",
    "\n",
    "RGBW_flat = RGBW.reshape(-1, RGBW.shape[-1])\n",
    "\n",
    "RGBW_new = equalize_hist(RGBW_shift, [100, 240, 80, 50])\n",
    "\n",
    "min = np.amin(RGBW_new, axis = (0,1,2))\n",
    "max = np.amax(RGBW_new, axis = (0,1,2))\n",
    "mean = np.mean(RGBW_new, axis = (0,1,2))\n",
    "std = np.std(RGBW_new, axis = (0,1,2))\n",
    "\n",
    "corr = np.corrcoef(RGBW_flat, rowvar= False)\n",
    "RG_co = corr[0][1]\n",
    "RB_co = corr[0][2]\n",
    "RW_co = corr[0][3]\n",
    "GB_co = corr[1][2]\n",
    "GW_co = corr[1][3]\n",
    "BW_co = corr[2][3]\n",
    "\n",
    "per_ID, per_correct, per_correct2, correctID, corrID2 = uti.check_accuracy(f.proc_FOCO('data/NP_foco_cropped/2022-02-12-w00-NP1'))\n",
    "\n",
    "hist_df = hist_df.append({'folder': folder, 'acc':per_correct,'min':min, 'max': max, 'mean': mean, 'std':std, 'RG coef': RG_co, 'RB coef': RB_co, 'RW coef': RW_co, 'GB coef': GB_co, 'GW coef': GW_co, 'BW coef':BW_co}, ignore_index=True)\n",
    "\n",
    "sio.savemat('data/NP_FOCO_hist/2022-02-12-w00-NP1/'+'hist_equal_image.mat', {'Hist_RGBW':RGBW_new})"
   ]
  },
  {
   "cell_type": "code",
   "execution_count": null,
   "metadata": {},
   "outputs": [],
   "source": [
    "import utils.utils as uti\n",
    "import process.file as f\n",
    "\n",
    "hist_df = pd.DataFrame()\n",
    "\n",
    "for folder in os.listdir('data/NP_foco_cropped'):\n",
    "    if not folder[0:3] == '.DS':\n",
    "        for file in os.listdir('data/NP_foco_cropped/'+folder):\n",
    "            if file[-4:] == '.mat':\n",
    "                imfile = sio.loadmat('data/NP_foco_cropped/'+folder +'/'+file)\n",
    "\n",
    "                data = imfile['data']\n",
    "                channels = [0,2,4,1]\n",
    "                RGBW = np.squeeze(data[:,:,:, channels])\n",
    "                RGBW = RGBW.astype('int32')\n",
    "\n",
    "                RGBW_shift = np.maximum(np.zeros(RGBW.shape), RGBW-80) #moves all values back -80 and then truncates to 0\n",
    "\n",
    "                RGBW_flat = RGBW.reshape(-1, RGBW.shape[-1])\n",
    "\n",
    "                RGBW_new = equalize_hist(RGBW_shift, [100, 240, 80, 50])\n",
    "\n",
    "                min = np.amin(RGBW_new, axis = (0,1,2))\n",
    "                max = np.amax(RGBW_new, axis = (0,1,2))\n",
    "                mean = np.mean(RGBW_new, axis = (0,1,2))\n",
    "                std = np.std(RGBW_new, axis = (0,1,2))\n",
    "\n",
    "                corr = np.corrcoef(RGBW_flat, rowvar= False)\n",
    "                RG_co = corr[0][1]\n",
    "                RB_co = corr[0][2]\n",
    "                RW_co = corr[0][3]\n",
    "                GB_co = corr[1][2]\n",
    "                GW_co = corr[1][3]\n",
    "                BW_co = corr[2][3]\n",
    "\n",
    "                per_ID, per_correct, per_correct2, correctID, corrID2 = uti.check_accuracy(f.proc_FOCO('data/NP_foco_cropped/'+folder))\n",
    "\n",
    "                hist_df = hist_df.append({'folder': folder, 'acc':per_correct,'min':min, 'max': max, 'mean': mean, 'std':std, 'RG coef': RG_co, 'RB coef': RB_co, 'RW coef': RW_co, 'GB coef': GB_co, 'GW coef': GW_co, 'BW coef':BW_co}, ignore_index=True)\n",
    "\n",
    "                sio.savemat('data/NP_FOCO_hist/'+folder+'/'+'hist_equal_image.mat', {'Hist_RGBW':RGBW_new})\n"
   ]
  },
  {
   "cell_type": "code",
   "execution_count": 38,
   "metadata": {},
   "outputs": [
    {
     "name": "stdout",
     "output_type": "stream",
     "text": [
      "2021-12-03-w00-NP1\n",
      "3531\n",
      "0.994860010471584\n",
      "3791\n",
      "0.6993464052287581\n",
      "1887\n",
      "0.9946990906220624\n",
      "2848\n",
      "0.4375767033894412\n",
      "2022-04-26-w00-NP1\n",
      "4095\n",
      "0.9916473423874133\n",
      "4095\n",
      "0.5761985902771958\n",
      "1368\n",
      "0.9935076311837717\n",
      "3560\n",
      "0.476053758427822\n",
      "2022-01-22-w04-NP1\n",
      "3155\n",
      "0.9934320544988497\n",
      "4095\n",
      "0.6562084336003736\n",
      "1819\n",
      "0.9853097374221089\n",
      "2450\n",
      "0.4602412361692056\n",
      "2022-03-05-w00-NP1\n",
      "1929\n",
      "0.9966605721902388\n",
      "4095\n",
      "0.7123175022580515\n",
      "838\n",
      "0.992916498649792\n",
      "1590\n",
      "0.4565408034984361\n",
      "2022-02-22-w04-NP1\n",
      "1884\n",
      "0.9956984428213621\n",
      "4095\n",
      "0.65786765641079\n",
      "1139\n",
      "0.9829455175886767\n",
      "1645\n",
      "0.4563855712633436\n",
      "2022-04-01-w00-NP1\n",
      "2381\n",
      "0.994458652311682\n",
      "4087\n",
      "0.6616579133118786\n",
      "835\n",
      "0.995261775209818\n",
      "1887\n",
      "0.44011839845597184\n",
      "2022-02-11-w03-NP1\n",
      "3887\n",
      "0.9957184002952519\n",
      "3898\n",
      "0.7349627435137804\n",
      "1258\n",
      "0.985576952150209\n",
      "2802\n",
      "0.473835875029989\n"
     ]
    }
   ],
   "source": [
    "folders = ['2021-12-03-w00-NP1', '2022-04-26-w00-NP1', '2022-01-22-w04-NP1', '2022-03-05-w00-NP1','2022-02-22-w04-NP1' , '2022-04-01-w00-NP1', '2022-02-11-w03-NP1']  \n",
    "for folder in folders:\n",
    "    print(folder)    \n",
    "    imfile = sio.loadmat('data/NP_foco_cropped/'+folder+'/neuropal_1_MMStack_Pos0.ome.mat')\n",
    "\n",
    "    data = imfile['data']\n",
    "    channels = [0,2,4,1]\n",
    "    RGBW = np.squeeze(data[:,:,:, channels])\n",
    "    RGBW = RGBW.astype('int32')\n",
    "\n",
    "    RGBW_shift = np.maximum(np.zeros(RGBW.shape), RGBW-80) #moves all values back -80 and then truncates to 0\n",
    "\n",
    "    threshs = [100, 240, 80, 50]\n",
    "\n",
    "    flat = RGBW.reshape(-1, RGBW.shape[-1])\n",
    "    size = RGBW_shift.shape\n",
    "\n",
    "    for l in range(size[3]):\n",
    "        channel = flat[:,l]\n",
    "\n",
    "        print(np.max(channel))\n",
    "\n",
    "        thresh = threshs[l]\n",
    "\n",
    "        hist_to_eq = channel[np.where(channel>=thresh)]\n",
    "        N = len(hist_to_eq)\n",
    "        num_bins = 4096-thresh\n",
    "        hist, bins = np.histogram(hist_to_eq, num_bins, [thresh, 4096])\n",
    "        cdf = hist.cumsum()\n",
    "\n",
    "        cum_prob = cdf[thresh]/N\n",
    "        #new_val = np.round(cum_prob*(num_bins-1))+thresh\n",
    "\n",
    "        print(cum_prob)"
   ]
  },
  {
   "cell_type": "code",
   "execution_count": 37,
   "metadata": {},
   "outputs": [],
   "source": [
    "%matplotlib qt\n",
    "imfile = sio.loadmat('data/NP_FOCO_cropped/2022-02-12-w00-NP1/neuropal_1_MMStack_Pos0.ome.mat')\n",
    "data = imfile['data']\n",
    "channels = [0,2,4,1]\n",
    "RGBW = np.squeeze(data[:,:,:, channels])\n",
    "\n",
    "generate_histograms(RGBW, 16)"
   ]
  },
  {
   "attachments": {},
   "cell_type": "markdown",
   "metadata": {},
   "source": [
    "### Match histogram "
   ]
  },
  {
   "cell_type": "code",
   "execution_count": 9,
   "metadata": {},
   "outputs": [],
   "source": [
    "def match_histogram(A, ref, A_max, ref_max): \n",
    "    image = np.asarray(A)\n",
    "    ref_im = np.asarray(ref)\n",
    "\n",
    "    im_flat = image.reshape(-1, image.shape[-1]) #flatten images \n",
    "    ref_flat = ref_im.reshape(-1, ref_im.shape[-1])\n",
    "\n",
    "    newim = np.zeros(A.shape)\n",
    "\n",
    "    for l in range(image.shape[3]):\n",
    "        chan_flat = im_flat[:,l]\n",
    "        chan_ref_flat = ref_flat[:,l]\n",
    "\n",
    "        hist, bins = np.histogram(chan_flat, A_max, [0, A_max]) #generate histograms\n",
    "        refhist, refbins = np.histogram(chan_ref_flat, ref_max, [0,ref_max])\n",
    "\n",
    "        cdf = hist.cumsum()/ chan_flat.size # generate cdf of histograms\n",
    "        cdf_ref = refhist.cumsum()/ chan_ref_flat.size\n",
    "\n",
    "        M = np.zeros(A_max) \n",
    "\n",
    "        for idx in range(A_max):\n",
    "            ind = np.argmin(np.abs(cdf[idx]-cdf_ref)) # store pixel values with matching cdf from reference image\n",
    "            M[idx] = ind\n",
    "\n",
    "        for i in range(image.shape[0]):\n",
    "            for j in range(image.shape[1]):\n",
    "                for k in range(image.shape[2]):\n",
    "                    newim[i,j,k,l] = M[A[i,j,k,l]]\n",
    "\n",
    "    return newim\n",
    "\n",
    "    \n"
   ]
  },
  {
   "cell_type": "code",
   "execution_count": 29,
   "metadata": {},
   "outputs": [
    {
     "name": "stdout",
     "output_type": "stream",
     "text": [
      "2022-04-26-w00-NP1\n",
      "2022-04-26-w01-NP1\n",
      "2021-12-03-w00-NP1\n",
      "2022-02-22-w04-NP1\n",
      "2022-04-01-w00-NP1\n",
      "2022-03-05-w00-NP1\n",
      "2022-02-12-w00-NP1\n",
      "2022-02-12-w01-NP1\n",
      "2022-01-22-w04-NP1\n",
      "2022-02-11-w03-NP1\n"
     ]
    }
   ],
   "source": [
    "import utils.utils as uti\n",
    "import process.file as f\n",
    "\n",
    "hist_df = pd.DataFrame()\n",
    "\n",
    "reffile = sio.loadmat('data/NP_paper/all/11_YAaLR.mat')\n",
    "refchannels = reffile['prefs']['RGBW'][0][0]-1\n",
    "refdata = reffile['data']\n",
    "refRGBW = np.squeeze(refdata[:,:,:,refchannels])\n",
    "\n",
    "for folder in os.listdir('data/NP_foco_cropped'):\n",
    "    if not folder[0:3] == '.DS':\n",
    "        for file in os.listdir('data/NP_foco_cropped/'+folder):\n",
    "            if file[-4:] == '.mat' and file[-6:] != 'ID.mat':\n",
    "                print(folder)\n",
    "                imfile = sio.loadmat('data/NP_foco_cropped/'+folder +'/'+file)\n",
    "\n",
    "                data = imfile['data']\n",
    "                channels = [0,2,4,1]\n",
    "                RGBW = np.squeeze(data[:,:,:, channels])\n",
    "                RGBW = RGBW.astype('int32')\n",
    "\n",
    "                RGBW_new = match_histogram(RGBW, refRGBW, 4096, 65536)\n",
    "\n",
    "                sio.savemat('data/NP_FOCO_hist_match/'+folder+'/'+'hist_match_image.mat', {'Hist_RGBW':RGBW_new})\n"
   ]
  },
  {
   "cell_type": "code",
   "execution_count": 28,
   "metadata": {},
   "outputs": [
    {
     "ename": "KeyError",
     "evalue": "'info'",
     "output_type": "error",
     "traceback": [
      "\u001b[0;31m---------------------------------------------------------------------------\u001b[0m",
      "\u001b[0;31mKeyError\u001b[0m                                  Traceback (most recent call last)",
      "Cell \u001b[0;32mIn[28], line 1\u001b[0m\n\u001b[0;32m----> 1\u001b[0m \u001b[39mprint\u001b[39m(imfile[\u001b[39m'\u001b[39;49m\u001b[39minfo\u001b[39;49m\u001b[39m'\u001b[39;49m])\n",
      "\u001b[0;31mKeyError\u001b[0m: 'info'"
     ]
    }
   ],
   "source": []
  },
  {
   "cell_type": "code",
   "execution_count": 19,
   "metadata": {},
   "outputs": [],
   "source": [
    "%matplotlib qt\n",
    "imfile = sio.loadmat('data/NP_FOCO_Cropped/2022-02-12-w01-NP1/neuropal_1_MMStack_Pos0.ome.mat')\n",
    "data = imfile['data']\n",
    "channels = [0,2,4,1]\n",
    "RGBW = np.squeeze(data[:,:,:,channels])\n",
    "\n",
    "reffile = sio.loadmat('data/NP_paper/all/11_YAaLR.mat')\n",
    "refchannels = reffile['prefs']['RGBW'][0][0]-1\n",
    "refdata = reffile['data']\n",
    "refRGBW = np.squeeze(refdata[:,:,:,refchannels])\n",
    "\n",
    "newim = match_histogram(RGBW, refRGBW, 4096, 65536)\n",
    "\n"
   ]
  },
  {
   "cell_type": "code",
   "execution_count": 20,
   "metadata": {},
   "outputs": [],
   "source": [
    "generate_histograms(newim, 256)"
   ]
  },
  {
   "cell_type": "code",
   "execution_count": 21,
   "metadata": {},
   "outputs": [],
   "source": [
    "sio.savemat('data/hist_match_test.mat', {'Hist_RGBW':newim})"
   ]
  },
  {
   "cell_type": "code",
   "execution_count": 22,
   "metadata": {},
   "outputs": [],
   "source": [
    "import tifffile"
   ]
  },
  {
   "cell_type": "code",
   "execution_count": 23,
   "metadata": {},
   "outputs": [
    {
     "name": "stdout",
     "output_type": "stream",
     "text": [
      "uint16\n"
     ]
    }
   ],
   "source": [
    "imfile = sio.loadmat('data/hist_match_test.mat')\n",
    "im = np.transpose(imfile['Hist_RGBW'],(2,3,0,1))\n",
    "im = im.astype('uint16')\n",
    "print(im.dtype)\n",
    "\n",
    "tifffile.imwrite('data/hist_match_test.tif', im, imagej = True)"
   ]
  },
  {
   "cell_type": "code",
   "execution_count": 31,
   "metadata": {},
   "outputs": [
    {
     "name": "stdout",
     "output_type": "stream",
     "text": [
      "uint16\n"
     ]
    }
   ],
   "source": [
    "imfile = sio.loadmat('data/NP_FOCO_hist_match/2022-02-12-w00-NP1/hist_match_image.mat')\n",
    "im = np.transpose(imfile['Hist_RGBW'],(2,3,0,1))\n",
    "im = im.astype('uint16')\n",
    "print(im.dtype)\n",
    "\n",
    "tifffile.imwrite('data/NP_FOCO_hist_match/2022-02-12-w00-NP1/hist_match_test.tif', im, imagej = True)"
   ]
  },
  {
   "cell_type": "code",
   "execution_count": 33,
   "metadata": {},
   "outputs": [
    {
     "name": "stdout",
     "output_type": "stream",
     "text": [
      "uint16\n"
     ]
    }
   ],
   "source": [
    "imfile = sio.loadmat('data/NP_FOCO_hist_med/2022-02-12-w00-NP1/hist_equal_image.mat')\n",
    "im = np.transpose(imfile['Hist_RGBW'],(2,3,0,1))\n",
    "im = im.astype('uint16')\n",
    "print(im.dtype)\n",
    "\n",
    "tifffile.imwrite('data/NP_FOCO_hist_med/2022-02-12-w00-NP1/hist_equal_image.tif', im, imagej = True)"
   ]
  },
  {
   "cell_type": "code",
   "execution_count": 36,
   "metadata": {},
   "outputs": [
    {
     "name": "stdout",
     "output_type": "stream",
     "text": [
      "uint16\n"
     ]
    }
   ],
   "source": [
    "%matplotlib qt\n",
    "\n",
    "folder = '20221106-21-47-31'\n",
    "imfile = sio.loadmat('data/NP_Ray/'+folder+'/Composite.mat')\n",
    "data = imfile['data']\n",
    "channels = [0,1,2,3]\n",
    "RGBW = np.squeeze(data[:,:,:,channels])\n",
    "\n",
    "reffile = sio.loadmat('data/NP_paper/all/11_YAaLR.mat')\n",
    "refchannels = reffile['prefs']['RGBW'][0][0]-1\n",
    "refdata = reffile['data']\n",
    "refRGBW = np.squeeze(refdata[:,:,:,refchannels])\n",
    "\n",
    "newim = match_histogram(RGBW, refRGBW, 4096, 65536)\n",
    "\n",
    "sio.savemat('data/NP_Ray/'+folder+'/hist_match_image.mat', {'Hist_RGBW':newim})\n",
    "\n",
    "imfile = sio.loadmat('data/NP_Ray/'+folder+'/hist_match_image.mat')\n",
    "im = np.transpose(imfile['Hist_RGBW'],(2,3,0,1))\n",
    "im = im.astype('uint16')\n",
    "print(im.dtype)\n",
    "\n",
    "tifffile.imwrite('data/NP_Ray/'+folder+'/hist_match_image.tif', im, imagej = True)\n"
   ]
  },
  {
   "cell_type": "code",
   "execution_count": 37,
   "metadata": {},
   "outputs": [
    {
     "name": "stdout",
     "output_type": "stream",
     "text": [
      "uint16\n"
     ]
    }
   ],
   "source": [
    "%matplotlib qt\n",
    "\n",
    "folder = '20221106-21-23-19'\n",
    "imfile = sio.loadmat('data/NP_Ray/'+folder+'/Composite.mat')\n",
    "data = imfile['data']\n",
    "channels = [0,1,2,3]\n",
    "RGBW = np.squeeze(data[:,:,:,channels])\n",
    "\n",
    "reffile = sio.loadmat('data/NP_paper/all/11_YAaLR.mat')\n",
    "refchannels = reffile['prefs']['RGBW'][0][0]-1\n",
    "refdata = reffile['data']\n",
    "refRGBW = np.squeeze(refdata[:,:,:,refchannels])\n",
    "\n",
    "newim = match_histogram(RGBW, refRGBW, 4096, 65536)\n",
    "\n",
    "sio.savemat('data/NP_Ray/'+folder+'/hist_match_image.mat', {'Hist_RGBW':newim})\n",
    "\n",
    "imfile = sio.loadmat('data/NP_Ray/'+folder+'/hist_match_image.mat')\n",
    "im = np.transpose(imfile['Hist_RGBW'],(2,3,0,1))\n",
    "im = im.astype('uint16')\n",
    "print(im.dtype)\n",
    "\n",
    "tifffile.imwrite('data/NP_Ray/'+folder+'/hist_match_image.tif', im, imagej = True)\n"
   ]
  },
  {
   "cell_type": "code",
   "execution_count": 38,
   "metadata": {},
   "outputs": [
    {
     "name": "stdout",
     "output_type": "stream",
     "text": [
      "uint16\n"
     ]
    }
   ],
   "source": [
    "%matplotlib qt\n",
    "\n",
    "folder = '20220529-14-16-47'\n",
    "imfile = sio.loadmat('data/NP_Ray/'+folder+'/Composite.mat')\n",
    "data = imfile['data']\n",
    "channels = [0,1,2,3]\n",
    "RGBW = np.squeeze(data[:,:,:,channels])\n",
    "\n",
    "reffile = sio.loadmat('data/NP_paper/all/11_YAaLR.mat')\n",
    "refchannels = reffile['prefs']['RGBW'][0][0]-1\n",
    "refdata = reffile['data']\n",
    "refRGBW = np.squeeze(refdata[:,:,:,refchannels])\n",
    "\n",
    "newim = match_histogram(RGBW, refRGBW, 4096, 65536)\n",
    "\n",
    "sio.savemat('data/NP_Ray/'+folder+'/hist_match_image.mat', {'Hist_RGBW':newim})\n",
    "\n",
    "imfile = sio.loadmat('data/NP_Ray/'+folder+'/hist_match_image.mat')\n",
    "im = np.transpose(imfile['Hist_RGBW'],(2,3,0,1))\n",
    "im = im.astype('uint16')\n",
    "print(im.dtype)\n",
    "\n",
    "tifffile.imwrite('data/NP_Ray/'+folder+'/hist_match_image.tif', im, imagej = True)\n"
   ]
  },
  {
   "cell_type": "code",
   "execution_count": 40,
   "metadata": {},
   "outputs": [],
   "source": [
    "folders = ['20220529-14-16-47', '20221106-21-23-19', '20221106-21-47-31']\n",
    "\n",
    "for folder in folders:\n",
    "\n",
    "    imfile = sio.loadmat('data/Manual_annotate/'+folder+'/neuroPAL_image.mat')\n",
    "    data = imfile['data']\n",
    "    info = imfile['info']\n",
    "    prefs = imfile['prefs']\n",
    "    version = imfile['version']\n",
    "    worm = imfile['worm']\n",
    "\n",
    "    histfile = sio.loadmat('data/NP_Ray/'+folder+'/hist_match_image.mat')\n",
    "    histdata = histfile['Hist_RGBW']\n",
    "\n",
    "    histdata = histdata.astype('uint16')\n",
    "\n",
    "    sio.savemat('data/Manual_annotate/'+folder+'/neuroPAL_image.mat', \n",
    "                {'data':histdata, 'info':info, 'prefs': prefs, 'version':version, 'worm':worm})"
   ]
  },
  {
   "cell_type": "code",
   "execution_count": null,
   "metadata": {},
   "outputs": [],
   "source": []
  }
 ],
 "metadata": {
  "kernelspec": {
   "display_name": "test-env-5",
   "language": "python",
   "name": "python3"
  },
  "language_info": {
   "codemirror_mode": {
    "name": "ipython",
    "version": 3
   },
   "file_extension": ".py",
   "mimetype": "text/x-python",
   "name": "python",
   "nbconvert_exporter": "python",
   "pygments_lexer": "ipython3",
   "version": "3.10.11"
  },
  "orig_nbformat": 4
 },
 "nbformat": 4,
 "nbformat_minor": 2
}
