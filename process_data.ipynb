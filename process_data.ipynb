{
 "cells": [
  {
   "cell_type": "code",
   "execution_count": 35,
   "metadata": {},
   "outputs": [],
   "source": [
    "import pandas as pd\n",
    "import matplotlib.pyplot as plt\n",
    "import numpy as np\n",
    "import scipy.io as sio\n",
    "import utils.utils as uti\n",
    "import process.file as f\n",
    "import os\n",
    "import tifffile"
   ]
  },
  {
   "attachments": {},
   "cell_type": "markdown",
   "metadata": {},
   "source": [
    "### Checking image statistics"
   ]
  },
  {
   "cell_type": "code",
   "execution_count": 44,
   "metadata": {},
   "outputs": [],
   "source": [
    "def get_stats_FOCO(file):\n",
    "    df = pd.DataFrame()\n",
    "\n",
    "    imfile = sio.loadmat(file)\n",
    "\n",
    "    data = imfile['data']\n",
    "    channels = [0,1,2,3]\n",
    "    RGBW = np.squeeze(data[:,:,:, channels])\n",
    "\n",
    "    RGBW_flat = RGBW.reshape(-1, RGBW.shape[-1])\n",
    "\n",
    "    min = np.amin(RGBW, axis = (0,1,2))\n",
    "    max = np.amax(RGBW, axis = (0,1,2))\n",
    "    mean = np.mean(RGBW, axis = (0,1,2))\n",
    "    std = np.std(RGBW, axis = (0,1,2))\n",
    "    \n",
    "    print(std)\n",
    "\n",
    "    return min, max, mean, std"
   ]
  },
  {
   "cell_type": "code",
   "execution_count": 45,
   "metadata": {},
   "outputs": [
    {
     "name": "stdout",
     "output_type": "stream",
     "text": [
      "[ 21.10524233 114.68456053  21.50760003  71.32167479]\n"
     ]
    },
    {
     "data": {
      "text/plain": [
       "(array([72, 21, 30, 22], dtype=uint16),\n",
       " array([1738, 4095, 1646, 4095], dtype=uint16),\n",
       " array([174.04605165, 111.9973158 , 107.47043733, 104.03060069]),\n",
       " array([ 21.10524233, 114.68456053,  21.50760003,  71.32167479]))"
      ]
     },
     "execution_count": 45,
     "metadata": {},
     "output_type": "execute_result"
    }
   ],
   "source": [
    "get_stats_FOCO('data/NP_Ray/20220529-14-16-47/Composite.mat')"
   ]
  },
  {
   "attachments": {},
   "cell_type": "markdown",
   "metadata": {},
   "source": [
    "### Equalizing histogram"
   ]
  },
  {
   "cell_type": "code",
   "execution_count": 46,
   "metadata": {},
   "outputs": [],
   "source": [
    "def generate_histograms(image, scale):\n",
    "    \n",
    "    image = np.asarray(image)\n",
    "\n",
    "    im_flat = image.reshape(-1, image.shape[-1])\n",
    "\n",
    "    fig, axs = plt.subplots(2,2)\n",
    "\n",
    "    for i, ax1 in enumerate(axs):\n",
    "        for j, ax in enumerate(ax1):\n",
    "\n",
    "            hist, bins = np.histogram(im_flat[:,i*2+j], 256, [0, 256*scale] )\n",
    "            cdf = hist.cumsum()\n",
    "            cdf_normalized = cdf * hist.max()/cdf.max()\n",
    "            ax.axvline(np.max(im_flat[:,i*2+j]),linestyle='--') \n",
    "            ax.plot(cdf_normalized, color = 'b')\n",
    "            ax.hist(im_flat[:,i*2+j], bins= np.arange(256)*scale, color= 'red')\n",
    "            ax.set_xlabel('color channel gray count')\n",
    "            ax.set_ylabel('pixel count')\n",
    "            ax.set_xlim([0,256*scale])\n",
    "            ax.legend(('max value', 'cdf', 'hist'), loc = 'upper right')\n",
    "    \n",
    "    axs[0,0].set_title('red histogram')\n",
    "    axs[0,1].set_title('green histogram')\n",
    "    axs[1,0].set_title('blue histogram')\n",
    "    axs[1,1].set_title('white histogram')\n",
    "\n",
    "    plt.show()\n"
   ]
  },
  {
   "cell_type": "code",
   "execution_count": 47,
   "metadata": {},
   "outputs": [],
   "source": [
    "def equalize_hist(RGBW, threshs):\n",
    "    '''\n",
    "    thresh defines value above which to perform the histogram equalization\n",
    "    loop through each pixel in image and transform based on histogram equalization\n",
    "    '''\n",
    "\n",
    "    size = RGBW.shape\n",
    "\n",
    "    RGBW_new = np.zeros(size)\n",
    "\n",
    "    flat = RGBW.reshape(-1, RGBW.shape[-1])\n",
    "\n",
    "    for l in range(size[3]):\n",
    "        channel = flat[:,l]\n",
    "\n",
    "        thresh = threshs[l]\n",
    "        \n",
    "        hist_to_eq = channel[np.where(channel>=thresh)]\n",
    "        N = len(hist_to_eq)\n",
    "        num_bins = 4096-thresh\n",
    "        hist, bins = np.histogram(hist_to_eq, num_bins, [thresh, 4096])\n",
    "        cdf = hist.cumsum()\n",
    "        \n",
    "        for i in range(size[0]):\n",
    "            for j in range(size[1]):\n",
    "                for k in range(size[2]):\n",
    "                        val = RGBW[i,j,k,l]\n",
    "\n",
    "                        if val >= thresh:\n",
    "                            val_index = np.where(bins==val)\n",
    "                            cum_prob = cdf[val_index]/N\n",
    "                            new_val = np.round(cum_prob*(num_bins-1))+thresh\n",
    "\n",
    "                            RGBW_new[i,j,k,l] = new_val\n",
    "                        \n",
    "                        else:\n",
    "                            RGBW_new[i,j,k,l] = val\n",
    "\n",
    "    return RGBW_new"
   ]
  },
  {
   "cell_type": "code",
   "execution_count": 48,
   "metadata": {},
   "outputs": [],
   "source": [
    "%matplotlib qt\n",
    "imfile = sio.loadmat('data/NP_Ray/20220529-14-16-47/Composite.mat')\n",
    "data = imfile['data']\n",
    "channels = [0,1,2,3]\n",
    "RGBW = np.squeeze(data[:,:,:, channels])\n",
    "\n",
    "#generate_histograms(RGBW, 16)\n",
    "\n",
    "RGBW = RGBW.astype('int32')\n",
    "RGBW_shift = np.maximum(np.zeros(RGBW.shape), RGBW-80)\n",
    "RGBW_flat = RGBW.reshape(-1, RGBW.shape[-1])\n",
    "RGBW_new = equalize_hist(RGBW_shift, [145, 240, 90, 50])"
   ]
  },
  {
   "cell_type": "code",
   "execution_count": 49,
   "metadata": {},
   "outputs": [
    {
     "name": "stdout",
     "output_type": "stream",
     "text": [
      "[233.63164781 213.84044504 251.20087559 404.55086801]\n"
     ]
    }
   ],
   "source": [
    "min = np.amin(RGBW_new, axis = (0,1,2))\n",
    "max = np.amax(RGBW_new, axis = (0,1,2))\n",
    "mean = np.mean(RGBW_new, axis = (0,1,2))\n",
    "std = np.std(RGBW_new, axis = (0,1,2))\n",
    "\n",
    "print(std)"
   ]
  },
  {
   "cell_type": "code",
   "execution_count": 50,
   "metadata": {},
   "outputs": [],
   "source": [
    "sio.savemat('data/NP_Ray/20220529-14-16-47/'+'hist_equal_image.mat', {'Hist_RGBW':RGBW_new})"
   ]
  },
  {
   "cell_type": "markdown",
   "metadata": {},
   "source": [
    "### Convert to tiff"
   ]
  },
  {
   "cell_type": "code",
   "execution_count": 51,
   "metadata": {},
   "outputs": [
    {
     "name": "stdout",
     "output_type": "stream",
     "text": [
      "uint16\n"
     ]
    }
   ],
   "source": [
    "imfile = sio.loadmat('data/NP_Ray/20220529-14-16-47/'+'hist_equal_image.mat')\n",
    "im = np.transpose(imfile['Hist_RGBW'],(2,3,0,1))\n",
    "im = im.astype('uint16')\n",
    "print(im.dtype)\n",
    "\n",
    "tifffile.imwrite('data/NP_Ray/20220529-14-16-47/'+'hist_equal_image.ome.tif', im, imagej = True)"
   ]
  },
  {
   "attachments": {},
   "cell_type": "markdown",
   "metadata": {},
   "source": [
    "### Update blobs.csv with new annotations"
   ]
  },
  {
   "cell_type": "code",
   "execution_count": null,
   "metadata": {},
   "outputs": [],
   "source": [
    "for folder in os.listdir('data/Manual_annotate'):\n",
    "    for f in os.listdir('data/Manual_annotate/'+folder):\n",
    "        if f == 'neuroPAL_image.csv':\n",
    "            NP_output = pd.read_csv('data/Manual_annotate/'+folder+'/'+f, skiprows = 7)\n",
    "\n",
    "        elif f == 'blobs.csv':\n",
    "            blobs = pd.read_csv('data/Manual_annotate/'+folder+'/'+f)\n",
    "\n",
    "        for i, row in NP_output.itterows():\n",
    "            ID = row['User ID']\n",
    "            blobs.at[i, 'ID'] = ID\n",
    "\n",
    "    blobs.to_csv('data/Manual_annotate/'+folder+'/blobs.csv')"
   ]
  }
 ],
 "metadata": {
  "kernelspec": {
   "display_name": "alignment",
   "language": "python",
   "name": "python3"
  },
  "language_info": {
   "codemirror_mode": {
    "name": "ipython",
    "version": 3
   },
   "file_extension": ".py",
   "mimetype": "text/x-python",
   "name": "python",
   "nbconvert_exporter": "python",
   "pygments_lexer": "ipython3",
   "version": "3.6.13"
  },
  "orig_nbformat": 4,
  "vscode": {
   "interpreter": {
    "hash": "9a246cbeb7e7d64baab736c5e4f8a8cf6205ec6202ebfe668ed4dad2c6630795"
   }
  }
 },
 "nbformat": 4,
 "nbformat_minor": 2
}
