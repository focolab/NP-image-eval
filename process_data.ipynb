{
 "cells": [
  {
   "cell_type": "code",
   "execution_count": 1,
   "metadata": {},
   "outputs": [],
   "source": [
    "import pandas as pd\n",
    "import matplotlib.pyplot as plt\n",
    "import numpy as np\n",
    "import scipy.io as sio\n",
    "import utils.utils as uti\n",
    "import process.file as f\n",
    "import os\n",
    "import tifffile\n",
    "import cv2"
   ]
  },
  {
   "cell_type": "code",
   "execution_count": 2,
   "metadata": {},
   "outputs": [],
   "source": [
    "datapath = os.path.join('/Users', 'danielsprague', 'FOCO_lab', 'data')"
   ]
  },
  {
   "attachments": {},
   "cell_type": "markdown",
   "metadata": {},
   "source": [
    "### Checking image statistics"
   ]
  },
  {
   "cell_type": "code",
   "execution_count": 44,
   "metadata": {},
   "outputs": [],
   "source": [
    "def get_stats_FOCO(file):\n",
    "    df = pd.DataFrame()\n",
    "\n",
    "    imfile = sio.loadmat(file)\n",
    "\n",
    "    data = imfile['data']\n",
    "    channels = [0,1,2,3]\n",
    "    RGBW = np.squeeze(data[:,:,:, channels])\n",
    "\n",
    "    RGBW_flat = RGBW.reshape(-1, RGBW.shape[-1])\n",
    "\n",
    "    min = np.amin(RGBW, axis = (0,1,2))\n",
    "    max = np.amax(RGBW, axis = (0,1,2))\n",
    "    mean = np.mean(RGBW, axis = (0,1,2))\n",
    "    std = np.std(RGBW, axis = (0,1,2))\n",
    "    \n",
    "    print(std)\n",
    "\n",
    "    return min, max, mean, std"
   ]
  },
  {
   "cell_type": "code",
   "execution_count": 45,
   "metadata": {},
   "outputs": [
    {
     "name": "stdout",
     "output_type": "stream",
     "text": [
      "[ 21.10524233 114.68456053  21.50760003  71.32167479]\n"
     ]
    },
    {
     "data": {
      "text/plain": [
       "(array([72, 21, 30, 22], dtype=uint16),\n",
       " array([1738, 4095, 1646, 4095], dtype=uint16),\n",
       " array([174.04605165, 111.9973158 , 107.47043733, 104.03060069]),\n",
       " array([ 21.10524233, 114.68456053,  21.50760003,  71.32167479]))"
      ]
     },
     "execution_count": 45,
     "metadata": {},
     "output_type": "execute_result"
    }
   ],
   "source": [
    "get_stats_FOCO('data/NP_Ray/20220529-14-16-47/Composite.mat')"
   ]
  },
  {
   "attachments": {},
   "cell_type": "markdown",
   "metadata": {},
   "source": [
    "### Histogram Matching and Median Filtering"
   ]
  },
  {
   "cell_type": "code",
   "execution_count": 125,
   "metadata": {},
   "outputs": [],
   "source": [
    "def generate_histograms(image, scale):\n",
    "    \n",
    "    image = np.asarray(image)\n",
    "\n",
    "    im_flat = image.reshape(-1, image.shape[-1])\n",
    "\n",
    "    fig, axs = plt.subplots(2,2)\n",
    "\n",
    "    for i, ax1 in enumerate(axs):\n",
    "        for j, ax in enumerate(ax1):\n",
    "\n",
    "            hist, bins = np.histogram(im_flat[:,i*2+j], 256, [0, 256*scale] )\n",
    "            cdf = hist.cumsum()\n",
    "            cdf_normalized = cdf * hist.max()/cdf.max()\n",
    "            ax.axvline(np.max(im_flat[:,i*2+j]),linestyle='--') \n",
    "            ax.plot(cdf_normalized, color = 'b')\n",
    "            ax.hist(im_flat[:,i*2+j], bins= np.arange(256)*scale, color= 'red')\n",
    "            ax.set_xlabel('color channel gray count')\n",
    "            ax.set_ylabel('pixel count')\n",
    "            ax.set_xlim([0,256*scale])\n",
    "            ax.legend(('max value', 'cdf', 'hist'), loc = 'upper right')\n",
    "    \n",
    "    axs[0,0].set_title('red histogram')\n",
    "    axs[0,1].set_title('green histogram')\n",
    "    axs[1,0].set_title('blue histogram')\n",
    "    axs[1,1].set_title('white histogram')\n",
    "\n",
    "    plt.show()\n"
   ]
  },
  {
   "cell_type": "code",
   "execution_count": 126,
   "metadata": {},
   "outputs": [],
   "source": [
    "def equalize_hist(RGBW, threshs):\n",
    "    '''\n",
    "    thresh defines value above which to perform the histogram equalization\n",
    "    loop through each pixel in image and transform based on histogram equalization\n",
    "    '''\n",
    "\n",
    "    size = RGBW.shape\n",
    "\n",
    "    RGBW_new = np.zeros(size)\n",
    "\n",
    "    flat = RGBW.reshape(-1, RGBW.shape[-1])\n",
    "\n",
    "    for l in range(size[3]):\n",
    "        channel = flat[:,l]\n",
    "\n",
    "        thresh = threshs[l]\n",
    "        \n",
    "        hist_to_eq = channel[np.where(channel>=thresh)]\n",
    "        N = len(hist_to_eq)\n",
    "        num_bins = 4096-thresh\n",
    "        hist, bins = np.histogram(hist_to_eq, num_bins, [thresh, 4096])\n",
    "        cdf = hist.cumsum()\n",
    "        \n",
    "        for i in range(size[0]):\n",
    "            for j in range(size[1]):\n",
    "                for k in range(size[2]):\n",
    "                        val = RGBW[i,j,k,l]\n",
    "\n",
    "                        if val >= thresh:\n",
    "                            val_index = np.where(bins==val)\n",
    "                            cum_prob = cdf[val_index]/N\n",
    "                            new_val = np.round(cum_prob*(num_bins-1))+thresh\n",
    "\n",
    "                            RGBW_new[i,j,k,l] = new_val\n",
    "                        \n",
    "                        else:\n",
    "                            RGBW_new[i,j,k,l] = val\n",
    "\n",
    "    return RGBW_new"
   ]
  },
  {
   "cell_type": "code",
   "execution_count": 127,
   "metadata": {},
   "outputs": [],
   "source": [
    "def match_histogram(A, ref, A_max, ref_max): \n",
    "    image = np.asarray(A)\n",
    "    ref_im = np.asarray(ref)\n",
    "\n",
    "    im_flat = image.reshape(-1, image.shape[-1]) #flatten images \n",
    "    ref_flat = ref_im.reshape(-1, ref_im.shape[-1])\n",
    "\n",
    "    newim = np.zeros(A.shape)\n",
    "\n",
    "    for l in range(image.shape[3]):\n",
    "        chan_flat = im_flat[:,l]\n",
    "        chan_ref_flat = ref_flat[:,l]\n",
    "\n",
    "        hist, bins = np.histogram(chan_flat, A_max, [0, A_max]) #generate histograms\n",
    "        refhist, refbins = np.histogram(chan_ref_flat, ref_max, [0,ref_max])\n",
    "\n",
    "        cdf = hist.cumsum()/ chan_flat.size # generate cdf of histograms\n",
    "        cdf_ref = refhist.cumsum()/ chan_ref_flat.size\n",
    "\n",
    "        M = np.zeros(A_max) \n",
    "\n",
    "        for idx in range(A_max):\n",
    "            ind = np.argmin(np.abs(cdf[idx]-cdf_ref)) # store pixel values with matching cdf from reference image\n",
    "            M[idx] = ind\n",
    "\n",
    "        for i in range(image.shape[0]):\n",
    "            for j in range(image.shape[1]):\n",
    "                for k in range(image.shape[2]):\n",
    "                    newim[i,j,k,l] = M[A[i,j,k,l]]\n",
    "\n",
    "    return newim"
   ]
  },
  {
   "cell_type": "code",
   "execution_count": 130,
   "metadata": {},
   "outputs": [],
   "source": [
    "def median_filter(im, size):\n",
    "    if size:\n",
    "        size = size\n",
    "    else:\n",
    "        size=3\n",
    "\n",
    "    for i in range(im.shape[2]):\n",
    "        for j in range(im.shape[3]):\n",
    "            im[:,:,i,j] = cv2.medianBlur(im[:,:,i,j], size)\n",
    "\n",
    "    return im\n"
   ]
  },
  {
   "cell_type": "code",
   "execution_count": 138,
   "metadata": {},
   "outputs": [
    {
     "name": "stdout",
     "output_type": "stream",
     "text": [
      "uint16\n"
     ]
    }
   ],
   "source": [
    "folder = '20230322-22-43-03'\n",
    "imfile = sio.loadmat(datapath +'/Manual_annotate/'+folder+'/composite.mat')\n",
    "\n",
    "data = imfile['data']\n",
    "channels = [0,1,2,3]\n",
    "RGBW = np.squeeze(data[:,:,:,channels])\n",
    "\n",
    "reffile = sio.loadmat(datapath +'/NP_paper/all/11_YAaLR.mat')\n",
    "refchannels = reffile['prefs']['RGBW'][0][0]-1\n",
    "refdata = reffile['data']\n",
    "refRGBW = np.squeeze(refdata[:,:,:,refchannels])\n",
    "\n",
    "newim = median_filter(RGBW, 3)\n",
    "newim = match_histogram(newim, refRGBW, 4096, 65536)\n",
    "\n",
    "sio.savemat(datapath+ '/Manual_annotate/'+folder+'/hist_med_image.mat', {'Hist_RGBW':newim})\n",
    "\n",
    "imfile = sio.loadmat(datapath+ '/Manual_annotate/'+folder+'/hist_med_image.mat')\n",
    "im = np.transpose(imfile['Hist_RGBW'],(2,3,0,1))\n",
    "im = im.astype('uint16')\n",
    "print(im.dtype)\n",
    "\n",
    "tifffile.imwrite(datapath + '/Manual_annotate/'+folder+'/hist_med_image.tif', im, imagej = True)\n",
    "\n",
    "\n"
   ]
  },
  {
   "cell_type": "code",
   "execution_count": 132,
   "metadata": {},
   "outputs": [
    {
     "name": "stdout",
     "output_type": "stream",
     "text": [
      "uint16\n"
     ]
    }
   ],
   "source": [
    "newim = match_histogram(RGBW, refRGBW, 4096, 65536)\n",
    "\n",
    "sio.savemat(datapath+ '/NP_Ray/'+folder+'/hist_match_image.mat', {'Hist_RGBW':newim})\n",
    "\n",
    "imfile = sio.loadmat(datapath+ '/NP_Ray/'+folder+'/hist_match_image.mat')\n",
    "im = np.transpose(imfile['Hist_RGBW'],(2,3,0,1))\n",
    "im = im.astype('uint16')\n",
    "print(im.dtype)\n",
    "\n",
    "tifffile.imwrite(datapath + '/NP_Ray/'+folder+'/hist_match_image.tif', im, imagej = True)"
   ]
  },
  {
   "cell_type": "code",
   "execution_count": 141,
   "metadata": {},
   "outputs": [
    {
     "name": "stdout",
     "output_type": "stream",
     "text": [
      "uint16\n",
      "uint16\n",
      "uint16\n",
      "uint16\n",
      "uint16\n",
      "uint16\n",
      "uint16\n",
      "uint16\n",
      "uint16\n",
      "uint16\n"
     ]
    }
   ],
   "source": [
    "\n",
    "reffile = sio.loadmat(datapath +'/NP_paper/all/11_YAaLR.mat')\n",
    "refchannels = reffile['prefs']['RGBW'][0][0]-1\n",
    "refdata = reffile['data']\n",
    "refRGBW = np.squeeze(refdata[:,:,:,refchannels])\n",
    "\n",
    "for folder in os.listdir(datapath+'/NP_FOCO_cropped'):\n",
    "    if folder != \".DS_Store\":\n",
    "        imfile = sio.loadmat(datapath +'/NP_FOCO_cropped/'+folder+'/neuropal_1_MMStack_Pos0.ome.mat')\n",
    "\n",
    "        data = imfile['data']\n",
    "        channels = [0,2,4,1]\n",
    "        RGBW = np.squeeze(data[:,:,:,channels])\n",
    "\n",
    "        newim = median_filter(RGBW, 3)\n",
    "        newim = match_histogram(newim, refRGBW, 4096, 65536)\n",
    "\n",
    "        sio.savemat(datapath+ '/NP_FOCO_hist_med/'+folder+'/hist_med_image.mat', {'Hist_RGBW':newim})\n",
    "\n",
    "        imfile = sio.loadmat(datapath+ '/NP_FOCO_hist_med/'+folder+'/hist_med_image.mat')\n",
    "        im = np.transpose(imfile['Hist_RGBW'],(2,3,0,1))\n",
    "        im = im.astype('uint16')\n",
    "        print(im.dtype)\n",
    "\n",
    "        tifffile.imwrite(datapath + '/NP_FOCO_hist_med/'+folder+'/hist_med_image.tif', im, imagej = True)"
   ]
  },
  {
   "cell_type": "code",
   "execution_count": 143,
   "metadata": {},
   "outputs": [
    {
     "name": "stdout",
     "output_type": "stream",
     "text": [
      "(45, 4, 240, 1000)\n"
     ]
    },
    {
     "ename": "",
     "evalue": "",
     "output_type": "error",
     "traceback": [
      "\u001b[1;31mThe Kernel crashed while executing code in the the current cell or a previous cell. Please review the code in the cell(s) to identify a possible cause of the failure. Click <a href='https://aka.ms/vscodeJupyterKernelCrash'>here</a> for more info. View Jupyter <a href='command:jupyter.viewOutput'>log</a> for further details."
     ]
    }
   ],
   "source": [
    "print(im.shape)"
   ]
  },
  {
   "cell_type": "markdown",
   "metadata": {},
   "source": [
    "### Convert to tiff"
   ]
  },
  {
   "cell_type": "code",
   "execution_count": 51,
   "metadata": {},
   "outputs": [
    {
     "name": "stdout",
     "output_type": "stream",
     "text": [
      "uint16\n"
     ]
    },
    {
     "ename": "",
     "evalue": "",
     "output_type": "error",
     "traceback": [
      "\u001b[1;31mThe Kernel crashed while executing code in the the current cell or a previous cell. Please review the code in the cell(s) to identify a possible cause of the failure. Click <a href='https://aka.ms/vscodeJupyterKernelCrash'>here</a> for more info. View Jupyter <a href='command:jupyter.viewOutput'>log</a> for further details."
     ]
    }
   ],
   "source": [
    "imfile = sio.loadmat('data/NP_Ray/20220529-14-16-47/'+'hist_equal_image.mat')\n",
    "im = np.transpose(imfile['Hist_RGBW'],(2,3,0,1))\n",
    "im = im.astype('uint16')\n",
    "print(im.dtype)\n",
    "\n",
    "tifffile.imwrite('data/NP_Ray/20220529-14-16-47/'+'hist_equal_image.ome.tif', im, imagej = True)"
   ]
  },
  {
   "attachments": {},
   "cell_type": "markdown",
   "metadata": {},
   "source": [
    "### Update blobs.csv with new annotations"
   ]
  },
  {
   "cell_type": "code",
   "execution_count": 3,
   "metadata": {},
   "outputs": [],
   "source": [
    "for folder in os.listdir(datapath+'/Manual_annotate'):\n",
    "    if folder =='.DS_Store':\n",
    "        continue\n",
    "    for f in os.listdir(datapath+'/Manual_annotate/'+folder):\n",
    "        if f == 'neuroPAL_image.csv':\n",
    "            npal = pd.read_csv(datapath+'/Manual_annotate/'+folder+'/'+f, skiprows = 7)\n",
    "\n",
    "        elif f == 'blobs.csv':\n",
    "            blob = pd.read_csv(datapath+'/Manual_annotate/'+folder+'/'+f, index_col =0)\n",
    "        elif f == 'neuroPAL_image.mat':\n",
    "            imfile = sio.loadmat(datapath+'/Manual_annotate/'+folder+'/'+f)\n",
    "            sz = imfile['data'].shape\n",
    "            scale = np.asarray(imfile['info']['scale'][0][0]).flatten()\n",
    "\n",
    "    npal= npal[['Real X (um)', 'Real Y (um)', 'Real Z (um)', 'User ID']]\n",
    "    npal['Real X (um)'] = round(npal['Real X (um)']/scale[0])\n",
    "    npal['Real Y (um)'] = round(npal['Real Y (um)']/scale[1])\n",
    "    npal['Real Z (um)'] = round(npal['Real Z (um)']/scale[2])\n",
    "\n",
    "    npal['Real X (um)'] = npal['Real X (um)'].astype('int32')\n",
    "    npal['Real Y (um)'] = npal['Real Y (um)'].astype('int32')\n",
    "    npal['Real Z (um)'] = npal['Real Z (um)'].astype('int32')\n",
    "\n",
    "    revx = sz[1]+1- npal['Real X (um)']\n",
    "    revy = sz[0]+1- npal['Real Y (um)']\n",
    "    revz = sz[2]+1- npal['Real Z (um)']\n",
    "\n",
    "    if np.abs(np.mean(np.asarray(npal['Real X (um)']))-np.mean(np.asarray(blob['X'])))>np.abs(np.mean(np.asarray(revx))-np.mean(np.asarray(blob['X']))):\n",
    "        npal['Real X (um)'] = revx\n",
    "\n",
    "    if np.abs(np.mean(np.asarray(npal['Real Y (um)']))-np.mean(np.asarray(blob['Y'])))>np.abs(np.mean(np.asarray(revy))-np.mean(np.asarray(blob['Y']))):\n",
    "        npal['Real Y (um)'] = revy\n",
    "\n",
    "    if np.abs(np.mean(np.asarray(npal['Real Z (um)']))-np.mean(np.asarray(blob['Z'])))>np.abs(np.mean(np.asarray(revz))-np.mean(np.asarray(blob['Z']))):\n",
    "        npal['Real Z (um)'] = revz\n",
    "\n",
    "    npal = npal.rename(columns={'Real X (um)':'X', 'Real Y (um)':'Y', 'Real Z (um)': 'Z'})\n",
    "        \n",
    "    blobs_new = pd.merge(blob, npal, how='right', on=['X', 'Y', 'Z'])\n",
    "\n",
    "    blobs_new['status'] = blobs_new['status'].fillna(1.0)\n",
    "    blobs_new['prov'] = blobs_new['prov'].fillna('curated')\n",
    "    blobs_new = blobs_new.drop(columns=['ID'])\n",
    "    blobs_new = blobs_new.rename(columns={'User ID':'ID'})\n",
    "    blobs_new['blob'] = np.arange(len(blobs_new))\n",
    "\n",
    "    blobs_new.to_csv(datapath+'/Manual_annotate/'+folder+'/blobs.csv')"
   ]
  },
  {
   "cell_type": "code",
   "execution_count": 120,
   "metadata": {},
   "outputs": [
    {
     "name": "stdout",
     "output_type": "stream",
     "text": [
      "(240, 1000, 48, 4)\n",
      "Y reverse\n",
      "Z reverse\n",
      "   Real X (um)  Real Y (um)  Real Z (um) User ID\n",
      "0          350          178           13     NaN\n",
      "1          376          154           13     NaN\n",
      "2          386          153           13     NaN\n",
      "3          402          189           26     NaN\n",
      "4          408          186           23     NaN\n",
      "     blob    X    Y   Z  status  ID      prov\n",
      "76     76  350  178  13       0 NaN  detected\n",
      "68     68  376  154  13       0 NaN  detected\n",
      "66     66  386  153  13       0 NaN  detected\n",
      "183   183  402  189  26       0 NaN  detected\n",
      "243   243  408  186  23       1 NaN   curated\n"
     ]
    }
   ],
   "source": [
    "folder = '20221106-21-23-19'\n",
    "for f in os.listdir(datapath+'/Manual_annotate/'+folder):\n",
    "    if f == 'neuroPAL_image.csv':\n",
    "        npal = pd.read_csv(datapath+'/Manual_annotate/'+folder+'/'+f, skiprows = 7)\n",
    "\n",
    "    elif f == 'blobs.csv':\n",
    "        blob = pd.read_csv(datapath+'/Manual_annotate/'+folder+'/'+f, index_col =0)\n",
    "\n",
    "    elif f == 'neuroPAL_image.mat':\n",
    "        imfile = sio.loadmat(datapath+'/Manual_annotate/'+folder+'/'+f)\n",
    "        sz = imfile['data'].shape\n",
    "        scale = np.asarray(imfile['info']['scale'][0][0]).flatten()\n",
    "        print(sz)\n",
    "\n",
    "npal= npal[['Real X (um)', 'Real Y (um)', 'Real Z (um)', 'User ID']]\n",
    "npal['Real X (um)'] = round(npal['Real X (um)']/scale[0])\n",
    "npal['Real Y (um)'] = round(npal['Real Y (um)']/scale[1])\n",
    "npal['Real Z (um)'] = round(npal['Real Z (um)']/scale[2])\n",
    "\n",
    "npal['Real X (um)'] = npal['Real X (um)'].astype('int32')\n",
    "npal['Real Y (um)'] = npal['Real Y (um)'].astype('int32')\n",
    "npal['Real Z (um)'] = npal['Real Z (um)'].astype('int32')\n",
    "\n",
    "revx = sz[1]+1- npal['Real X (um)']\n",
    "revy = sz[0]+1- npal['Real Y (um)']\n",
    "revz = sz[2]+1- npal['Real Z (um)']\n",
    "\n",
    "if np.abs(np.mean(np.asarray(npal['Real X (um)']))-np.mean(np.asarray(blob['X'])))>np.abs(np.mean(np.asarray(revx))-np.mean(np.asarray(blob['X']))):\n",
    "    npal['Real X (um)'] = revx\n",
    "    print('X reverse')\n",
    "\n",
    "if np.abs(np.mean(np.asarray(npal['Real Y (um)']))-np.mean(np.asarray(blob['Y'])))>np.abs(np.mean(np.asarray(revy))-np.mean(np.asarray(blob['Y']))):\n",
    "    npal['Real Y (um)'] = revy\n",
    "    print('Y reverse')\n",
    "\n",
    "if np.abs(np.mean(np.asarray(npal['Real Z (um)']))-np.mean(np.asarray(blob['Z'])))>np.abs(np.mean(np.asarray(revz))-np.mean(np.asarray(blob['Z']))):\n",
    "    npal['Real Z (um)'] = revz\n",
    "    print('Z reverse')\n",
    "\n",
    "print(npal.head())\n",
    "print(blob.head())"
   ]
  },
  {
   "cell_type": "code",
   "execution_count": 116,
   "metadata": {},
   "outputs": [
    {
     "name": "stdout",
     "output_type": "stream",
     "text": [
      "(240, 1000, 48, 4)\n"
     ]
    }
   ],
   "source": [
    "print(sz)"
   ]
  },
  {
   "cell_type": "code",
   "execution_count": 11,
   "metadata": {},
   "outputs": [],
   "source": [
    "data = sio.loadmat(datapath+'/Manual_annotate copy/20221106-21-47-31/neuroPAL_image.mat')"
   ]
  },
  {
   "cell_type": "code",
   "execution_count": 89,
   "metadata": {},
   "outputs": [
    {
     "name": "stdout",
     "output_type": "stream",
     "text": [
      "(240, 1000, 48, 4)\n"
     ]
    }
   ],
   "source": [
    "print(data['data'].shape)"
   ]
  },
  {
   "cell_type": "code",
   "execution_count": 96,
   "metadata": {},
   "outputs": [
    {
     "data": {
      "text/html": [
       "<div>\n",
       "<style scoped>\n",
       "    .dataframe tbody tr th:only-of-type {\n",
       "        vertical-align: middle;\n",
       "    }\n",
       "\n",
       "    .dataframe tbody tr th {\n",
       "        vertical-align: top;\n",
       "    }\n",
       "\n",
       "    .dataframe thead th {\n",
       "        text-align: right;\n",
       "    }\n",
       "</style>\n",
       "<table border=\"1\" class=\"dataframe\">\n",
       "  <thead>\n",
       "    <tr style=\"text-align: right;\">\n",
       "      <th></th>\n",
       "      <th>blob</th>\n",
       "      <th>X</th>\n",
       "      <th>Y</th>\n",
       "      <th>Z</th>\n",
       "      <th>status</th>\n",
       "      <th>prov</th>\n",
       "      <th>ID</th>\n",
       "    </tr>\n",
       "  </thead>\n",
       "  <tbody>\n",
       "    <tr>\n",
       "      <th>0</th>\n",
       "      <td>NaN</td>\n",
       "      <td>317</td>\n",
       "      <td>224</td>\n",
       "      <td>20</td>\n",
       "      <td>1.0</td>\n",
       "      <td>curated</td>\n",
       "      <td>NaN</td>\n",
       "    </tr>\n",
       "    <tr>\n",
       "      <th>1</th>\n",
       "      <td>81.0</td>\n",
       "      <td>344</td>\n",
       "      <td>120</td>\n",
       "      <td>32</td>\n",
       "      <td>0.0</td>\n",
       "      <td>detected</td>\n",
       "      <td>NaN</td>\n",
       "    </tr>\n",
       "    <tr>\n",
       "      <th>2</th>\n",
       "      <td>82.0</td>\n",
       "      <td>345</td>\n",
       "      <td>161</td>\n",
       "      <td>32</td>\n",
       "      <td>0.0</td>\n",
       "      <td>detected</td>\n",
       "      <td>NaN</td>\n",
       "    </tr>\n",
       "    <tr>\n",
       "      <th>3</th>\n",
       "      <td>77.0</td>\n",
       "      <td>364</td>\n",
       "      <td>154</td>\n",
       "      <td>31</td>\n",
       "      <td>0.0</td>\n",
       "      <td>detected</td>\n",
       "      <td>NaN</td>\n",
       "    </tr>\n",
       "    <tr>\n",
       "      <th>4</th>\n",
       "      <td>54.0</td>\n",
       "      <td>364</td>\n",
       "      <td>93</td>\n",
       "      <td>26</td>\n",
       "      <td>0.0</td>\n",
       "      <td>detected</td>\n",
       "      <td>I3</td>\n",
       "    </tr>\n",
       "  </tbody>\n",
       "</table>\n",
       "</div>"
      ],
      "text/plain": [
       "   blob    X    Y   Z  status      prov   ID\n",
       "0   NaN  317  224  20     1.0   curated  NaN\n",
       "1  81.0  344  120  32     0.0  detected  NaN\n",
       "2  82.0  345  161  32     0.0  detected  NaN\n",
       "3  77.0  364  154  31     0.0  detected  NaN\n",
       "4  54.0  364   93  26     0.0  detected   I3"
      ]
     },
     "execution_count": 96,
     "metadata": {},
     "output_type": "execute_result"
    }
   ],
   "source": [
    "scale = [0.3208, 0.3208, 0.75]\n",
    "sz = [1000, 240, 48]\n",
    "\n",
    "npal = pd.read_csv(datapath+'/Manual_annotate/20221106-21-47-31/neuroPAL_image.csv', skiprows=7)\n",
    "npal= npal[['Real X (um)', 'Real Y (um)', 'Real Z (um)', 'User ID']]\n",
    "blob = pd.read_csv(datapath+'/Manual_annotate/20221106-21-47-31/blobs.csv', index_col=0)\n",
    "npal['Real X (um)'] = round(npal['Real X (um)']/scale[0])\n",
    "npal['Real Y (um)'] = round(npal['Real Y (um)']/scale[1])\n",
    "npal['Real Z (um)'] = round(npal['Real Z (um)']/scale[2])\n",
    "\n",
    "npal['Real X (um)'] = npal['Real X (um)'].astype('int32')\n",
    "npal['Real Y (um)'] = npal['Real Y (um)'].astype('int32')\n",
    "npal['Real Z (um)'] = npal['Real Z (um)'].astype('int32')\n",
    "\n",
    "revx = sz[0]+1- npal['Real X (um)']\n",
    "revy = sz[1]+1- npal['Real Y (um)']\n",
    "revz = sz[2]+1- npal['Real Z (um)']\n",
    "\n",
    "if np.abs(np.mean(np.asarray(npal['Real X (um)']))-np.mean(np.asarray(blob['X'])))>np.abs(np.mean(np.asarray(revx))-np.mean(np.asarray(blob['X']))):\n",
    "    npal['Real X (um)'] = revx\n",
    "\n",
    "if np.abs(np.mean(np.asarray(npal['Real Y (um)']))-np.mean(np.asarray(blob['Y'])))>np.abs(np.mean(np.asarray(revy))-np.mean(np.asarray(blob['Y']))):\n",
    "    npal['Real Y (um)'] = revy\n",
    "\n",
    "if np.abs(np.mean(np.asarray(npal['Real Z (um)']))-np.mean(np.asarray(blob['Z'])))>np.abs(np.mean(np.asarray(revz))-np.mean(np.asarray(blob['Z']))):\n",
    "    npal['Real Z (um)'] = revz\n",
    "\n",
    "npal = npal.rename(columns={'Real X (um)':'X', 'Real Y (um)':'Y', 'Real Z (um)': 'Z'})\n",
    "    \n",
    "blobs = pd.merge(blob, npal, how='right', on=['X', 'Y', 'Z'])\n",
    "\n",
    "blobs['status'] = blobs['status'].fillna(1.0)\n",
    "blobs['prov'] = blobs['prov'].fillna('curated')\n",
    "blobs = blobs.drop(columns=['ID'])\n",
    "blobs = blobs.rename(columns={'User ID':'ID'})\n",
    "\n",
    "blobs.to_csv(datapath+'/Manual_annotate/'+'20221106-21-47-31'+'/blobs_test.csv')\n",
    "\n",
    "blobs.head()\n",
    "#npal.head()\n"
   ]
  },
  {
   "cell_type": "code",
   "execution_count": 83,
   "metadata": {},
   "outputs": [
    {
     "data": {
      "text/plain": [
       "Index(['blob', 'X', 'Y', 'Z', 'status', 'ID', 'prov', 'User ID'], dtype='object')"
      ]
     },
     "execution_count": 83,
     "metadata": {},
     "output_type": "execute_result"
    }
   ],
   "source": [
    "blobs.columns"
   ]
  },
  {
   "cell_type": "code",
   "execution_count": null,
   "metadata": {},
   "outputs": [],
   "source": []
  },
  {
   "cell_type": "code",
   "execution_count": 40,
   "metadata": {},
   "outputs": [
    {
     "data": {
      "text/html": [
       "<div>\n",
       "<style scoped>\n",
       "    .dataframe tbody tr th:only-of-type {\n",
       "        vertical-align: middle;\n",
       "    }\n",
       "\n",
       "    .dataframe tbody tr th {\n",
       "        vertical-align: top;\n",
       "    }\n",
       "\n",
       "    .dataframe thead th {\n",
       "        text-align: right;\n",
       "    }\n",
       "</style>\n",
       "<table border=\"1\" class=\"dataframe\">\n",
       "  <thead>\n",
       "    <tr style=\"text-align: right;\">\n",
       "      <th></th>\n",
       "      <th>Real X (um)</th>\n",
       "      <th>Real Y (um)</th>\n",
       "      <th>Real Z (um)</th>\n",
       "      <th>User ID</th>\n",
       "    </tr>\n",
       "  </thead>\n",
       "  <tbody>\n",
       "    <tr>\n",
       "      <th>0</th>\n",
       "      <td>101.694004</td>\n",
       "      <td>5.459252</td>\n",
       "      <td>21.75</td>\n",
       "      <td>NaN</td>\n",
       "    </tr>\n",
       "    <tr>\n",
       "      <th>1</th>\n",
       "      <td>110.355200</td>\n",
       "      <td>38.816800</td>\n",
       "      <td>12.75</td>\n",
       "      <td>NaN</td>\n",
       "    </tr>\n",
       "    <tr>\n",
       "      <th>2</th>\n",
       "      <td>110.676000</td>\n",
       "      <td>25.664000</td>\n",
       "      <td>12.75</td>\n",
       "      <td>NaN</td>\n",
       "    </tr>\n",
       "    <tr>\n",
       "      <th>3</th>\n",
       "      <td>116.771200</td>\n",
       "      <td>27.909600</td>\n",
       "      <td>13.50</td>\n",
       "      <td>NaN</td>\n",
       "    </tr>\n",
       "    <tr>\n",
       "      <th>4</th>\n",
       "      <td>116.771200</td>\n",
       "      <td>47.478400</td>\n",
       "      <td>17.25</td>\n",
       "      <td>I3</td>\n",
       "    </tr>\n",
       "  </tbody>\n",
       "</table>\n",
       "</div>"
      ],
      "text/plain": [
       "   Real X (um)  Real Y (um)  Real Z (um) User ID\n",
       "0   101.694004     5.459252        21.75     NaN\n",
       "1   110.355200    38.816800        12.75     NaN\n",
       "2   110.676000    25.664000        12.75     NaN\n",
       "3   116.771200    27.909600        13.50     NaN\n",
       "4   116.771200    47.478400        17.25      I3"
      ]
     },
     "execution_count": 40,
     "metadata": {},
     "output_type": "execute_result"
    }
   ],
   "source": [
    "npal= npal[['Real X (um)', 'Real Y (um)', 'Real Z (um)', 'User ID']]\n",
    "npal.head()"
   ]
  },
  {
   "cell_type": "code",
   "execution_count": null,
   "metadata": {},
   "outputs": [],
   "source": []
  },
  {
   "cell_type": "code",
   "execution_count": 41,
   "metadata": {},
   "outputs": [
    {
     "data": {
      "text/html": [
       "<div>\n",
       "<style scoped>\n",
       "    .dataframe tbody tr th:only-of-type {\n",
       "        vertical-align: middle;\n",
       "    }\n",
       "\n",
       "    .dataframe tbody tr th {\n",
       "        vertical-align: top;\n",
       "    }\n",
       "\n",
       "    .dataframe thead th {\n",
       "        text-align: right;\n",
       "    }\n",
       "</style>\n",
       "<table border=\"1\" class=\"dataframe\">\n",
       "  <thead>\n",
       "    <tr style=\"text-align: right;\">\n",
       "      <th></th>\n",
       "      <th>Real X (um)</th>\n",
       "      <th>Real Y (um)</th>\n",
       "      <th>Real Z (um)</th>\n",
       "      <th>User ID</th>\n",
       "    </tr>\n",
       "  </thead>\n",
       "  <tbody>\n",
       "    <tr>\n",
       "      <th>0</th>\n",
       "      <td>317.001259</td>\n",
       "      <td>17.017618</td>\n",
       "      <td>29.0</td>\n",
       "      <td>NaN</td>\n",
       "    </tr>\n",
       "    <tr>\n",
       "      <th>1</th>\n",
       "      <td>344.000000</td>\n",
       "      <td>121.000000</td>\n",
       "      <td>17.0</td>\n",
       "      <td>NaN</td>\n",
       "    </tr>\n",
       "    <tr>\n",
       "      <th>2</th>\n",
       "      <td>345.000000</td>\n",
       "      <td>80.000000</td>\n",
       "      <td>17.0</td>\n",
       "      <td>NaN</td>\n",
       "    </tr>\n",
       "    <tr>\n",
       "      <th>3</th>\n",
       "      <td>364.000000</td>\n",
       "      <td>87.000000</td>\n",
       "      <td>18.0</td>\n",
       "      <td>NaN</td>\n",
       "    </tr>\n",
       "    <tr>\n",
       "      <th>4</th>\n",
       "      <td>364.000000</td>\n",
       "      <td>148.000000</td>\n",
       "      <td>23.0</td>\n",
       "      <td>I3</td>\n",
       "    </tr>\n",
       "  </tbody>\n",
       "</table>\n",
       "</div>"
      ],
      "text/plain": [
       "   Real X (um)  Real Y (um)  Real Z (um) User ID\n",
       "0   317.001259    17.017618         29.0     NaN\n",
       "1   344.000000   121.000000         17.0     NaN\n",
       "2   345.000000    80.000000         17.0     NaN\n",
       "3   364.000000    87.000000         18.0     NaN\n",
       "4   364.000000   148.000000         23.0      I3"
      ]
     },
     "execution_count": 41,
     "metadata": {},
     "output_type": "execute_result"
    }
   ],
   "source": [
    "npal['Real X (um)'] = npal['Real X (um)']/0.3208\n",
    "npal['Real Y (um)'] = npal['Real Y (um)']/0.3208\n",
    "npal['Real Z (um)'] = npal['Real Z (um)']/0.75\n",
    "\n",
    "npal.head()\n",
    "\n"
   ]
  },
  {
   "cell_type": "code",
   "execution_count": null,
   "metadata": {},
   "outputs": [],
   "source": []
  },
  {
   "cell_type": "code",
   "execution_count": 33,
   "metadata": {},
   "outputs": [
    {
     "data": {
      "text/html": [
       "<div>\n",
       "<style scoped>\n",
       "    .dataframe tbody tr th:only-of-type {\n",
       "        vertical-align: middle;\n",
       "    }\n",
       "\n",
       "    .dataframe tbody tr th {\n",
       "        vertical-align: top;\n",
       "    }\n",
       "\n",
       "    .dataframe thead th {\n",
       "        text-align: right;\n",
       "    }\n",
       "</style>\n",
       "<table border=\"1\" class=\"dataframe\">\n",
       "  <thead>\n",
       "    <tr style=\"text-align: right;\">\n",
       "      <th></th>\n",
       "      <th>Unnamed: 0</th>\n",
       "      <th>blob</th>\n",
       "      <th>X</th>\n",
       "      <th>Y</th>\n",
       "      <th>Z</th>\n",
       "      <th>status</th>\n",
       "      <th>ID</th>\n",
       "      <th>prov</th>\n",
       "    </tr>\n",
       "  </thead>\n",
       "  <tbody>\n",
       "    <tr>\n",
       "      <th>0</th>\n",
       "      <td>76</td>\n",
       "      <td>81</td>\n",
       "      <td>344</td>\n",
       "      <td>120</td>\n",
       "      <td>32</td>\n",
       "      <td>0</td>\n",
       "      <td>NaN</td>\n",
       "      <td>detected</td>\n",
       "    </tr>\n",
       "    <tr>\n",
       "      <th>1</th>\n",
       "      <td>77</td>\n",
       "      <td>82</td>\n",
       "      <td>345</td>\n",
       "      <td>161</td>\n",
       "      <td>32</td>\n",
       "      <td>0</td>\n",
       "      <td>NaN</td>\n",
       "      <td>detected</td>\n",
       "    </tr>\n",
       "    <tr>\n",
       "      <th>2</th>\n",
       "      <td>72</td>\n",
       "      <td>77</td>\n",
       "      <td>364</td>\n",
       "      <td>154</td>\n",
       "      <td>31</td>\n",
       "      <td>0</td>\n",
       "      <td>NaN</td>\n",
       "      <td>detected</td>\n",
       "    </tr>\n",
       "    <tr>\n",
       "      <th>3</th>\n",
       "      <td>53</td>\n",
       "      <td>54</td>\n",
       "      <td>364</td>\n",
       "      <td>93</td>\n",
       "      <td>26</td>\n",
       "      <td>0</td>\n",
       "      <td>NaN</td>\n",
       "      <td>detected</td>\n",
       "    </tr>\n",
       "    <tr>\n",
       "      <th>4</th>\n",
       "      <td>1</td>\n",
       "      <td>1</td>\n",
       "      <td>366</td>\n",
       "      <td>148</td>\n",
       "      <td>11</td>\n",
       "      <td>0</td>\n",
       "      <td>NaN</td>\n",
       "      <td>detected</td>\n",
       "    </tr>\n",
       "  </tbody>\n",
       "</table>\n",
       "</div>"
      ],
      "text/plain": [
       "   Unnamed: 0  blob    X    Y   Z  status  ID      prov\n",
       "0          76    81  344  120  32       0 NaN  detected\n",
       "1          77    82  345  161  32       0 NaN  detected\n",
       "2          72    77  364  154  31       0 NaN  detected\n",
       "3          53    54  364   93  26       0 NaN  detected\n",
       "4           1     1  366  148  11       0 NaN  detected"
      ]
     },
     "execution_count": 33,
     "metadata": {},
     "output_type": "execute_result"
    }
   ],
   "source": [
    "blob.head()"
   ]
  },
  {
   "cell_type": "code",
   "execution_count": 34,
   "metadata": {},
   "outputs": [
    {
     "data": {
      "text/html": [
       "<div>\n",
       "<style scoped>\n",
       "    .dataframe tbody tr th:only-of-type {\n",
       "        vertical-align: middle;\n",
       "    }\n",
       "\n",
       "    .dataframe tbody tr th {\n",
       "        vertical-align: top;\n",
       "    }\n",
       "\n",
       "    .dataframe thead th {\n",
       "        text-align: right;\n",
       "    }\n",
       "</style>\n",
       "<table border=\"1\" class=\"dataframe\">\n",
       "  <thead>\n",
       "    <tr style=\"text-align: right;\">\n",
       "      <th></th>\n",
       "      <th>Real X (um)</th>\n",
       "      <th>Real Y (um)</th>\n",
       "      <th>Real Z (um)</th>\n",
       "      <th>User ID</th>\n",
       "    </tr>\n",
       "  </thead>\n",
       "  <tbody>\n",
       "    <tr>\n",
       "      <th>0</th>\n",
       "      <td>317.001259</td>\n",
       "      <td>223.982382</td>\n",
       "      <td>20.0</td>\n",
       "      <td>NaN</td>\n",
       "    </tr>\n",
       "    <tr>\n",
       "      <th>1</th>\n",
       "      <td>344.000000</td>\n",
       "      <td>120.000000</td>\n",
       "      <td>32.0</td>\n",
       "      <td>NaN</td>\n",
       "    </tr>\n",
       "    <tr>\n",
       "      <th>2</th>\n",
       "      <td>345.000000</td>\n",
       "      <td>161.000000</td>\n",
       "      <td>32.0</td>\n",
       "      <td>NaN</td>\n",
       "    </tr>\n",
       "    <tr>\n",
       "      <th>3</th>\n",
       "      <td>364.000000</td>\n",
       "      <td>154.000000</td>\n",
       "      <td>31.0</td>\n",
       "      <td>NaN</td>\n",
       "    </tr>\n",
       "    <tr>\n",
       "      <th>4</th>\n",
       "      <td>364.000000</td>\n",
       "      <td>93.000000</td>\n",
       "      <td>26.0</td>\n",
       "      <td>I3</td>\n",
       "    </tr>\n",
       "  </tbody>\n",
       "</table>\n",
       "</div>"
      ],
      "text/plain": [
       "   Real X (um)  Real Y (um)  Real Z (um) User ID\n",
       "0   317.001259   223.982382         20.0     NaN\n",
       "1   344.000000   120.000000         32.0     NaN\n",
       "2   345.000000   161.000000         32.0     NaN\n",
       "3   364.000000   154.000000         31.0     NaN\n",
       "4   364.000000    93.000000         26.0      I3"
      ]
     },
     "execution_count": 34,
     "metadata": {},
     "output_type": "execute_result"
    }
   ],
   "source": [
    "npal['Real X (um)'] = npal['Real X (um)']\n",
    "npal['Real Y (um)'] = 241 - npal['Real Y (um)']\n",
    "npal['Real Z (um)'] = 49 - npal['Real Z (um)']\n",
    "\n",
    "npal.head()"
   ]
  },
  {
   "cell_type": "code",
   "execution_count": 35,
   "metadata": {},
   "outputs": [
    {
     "data": {
      "text/html": [
       "<div>\n",
       "<style scoped>\n",
       "    .dataframe tbody tr th:only-of-type {\n",
       "        vertical-align: middle;\n",
       "    }\n",
       "\n",
       "    .dataframe tbody tr th {\n",
       "        vertical-align: top;\n",
       "    }\n",
       "\n",
       "    .dataframe thead th {\n",
       "        text-align: right;\n",
       "    }\n",
       "</style>\n",
       "<table border=\"1\" class=\"dataframe\">\n",
       "  <thead>\n",
       "    <tr style=\"text-align: right;\">\n",
       "      <th></th>\n",
       "      <th>Unnamed: 0</th>\n",
       "      <th>blob</th>\n",
       "      <th>X</th>\n",
       "      <th>Y</th>\n",
       "      <th>Z</th>\n",
       "      <th>status</th>\n",
       "      <th>ID</th>\n",
       "      <th>prov</th>\n",
       "    </tr>\n",
       "  </thead>\n",
       "  <tbody>\n",
       "    <tr>\n",
       "      <th>0</th>\n",
       "      <td>76</td>\n",
       "      <td>81</td>\n",
       "      <td>344</td>\n",
       "      <td>120</td>\n",
       "      <td>32</td>\n",
       "      <td>0</td>\n",
       "      <td>NaN</td>\n",
       "      <td>detected</td>\n",
       "    </tr>\n",
       "    <tr>\n",
       "      <th>1</th>\n",
       "      <td>77</td>\n",
       "      <td>82</td>\n",
       "      <td>345</td>\n",
       "      <td>161</td>\n",
       "      <td>32</td>\n",
       "      <td>0</td>\n",
       "      <td>NaN</td>\n",
       "      <td>detected</td>\n",
       "    </tr>\n",
       "    <tr>\n",
       "      <th>2</th>\n",
       "      <td>72</td>\n",
       "      <td>77</td>\n",
       "      <td>364</td>\n",
       "      <td>154</td>\n",
       "      <td>31</td>\n",
       "      <td>0</td>\n",
       "      <td>NaN</td>\n",
       "      <td>detected</td>\n",
       "    </tr>\n",
       "    <tr>\n",
       "      <th>3</th>\n",
       "      <td>53</td>\n",
       "      <td>54</td>\n",
       "      <td>364</td>\n",
       "      <td>93</td>\n",
       "      <td>26</td>\n",
       "      <td>0</td>\n",
       "      <td>NaN</td>\n",
       "      <td>detected</td>\n",
       "    </tr>\n",
       "    <tr>\n",
       "      <th>4</th>\n",
       "      <td>1</td>\n",
       "      <td>1</td>\n",
       "      <td>366</td>\n",
       "      <td>148</td>\n",
       "      <td>11</td>\n",
       "      <td>0</td>\n",
       "      <td>NaN</td>\n",
       "      <td>detected</td>\n",
       "    </tr>\n",
       "  </tbody>\n",
       "</table>\n",
       "</div>"
      ],
      "text/plain": [
       "   Unnamed: 0  blob    X    Y   Z  status  ID      prov\n",
       "0          76    81  344  120  32       0 NaN  detected\n",
       "1          77    82  345  161  32       0 NaN  detected\n",
       "2          72    77  364  154  31       0 NaN  detected\n",
       "3          53    54  364   93  26       0 NaN  detected\n",
       "4           1     1  366  148  11       0 NaN  detected"
      ]
     },
     "execution_count": 35,
     "metadata": {},
     "output_type": "execute_result"
    }
   ],
   "source": [
    "blob.head()"
   ]
  },
  {
   "cell_type": "code",
   "execution_count": 38,
   "metadata": {},
   "outputs": [
    {
     "name": "stdout",
     "output_type": "stream",
     "text": [
      "475.2822106640726\n",
      "475.45217391304345\n",
      "113.45566087475275\n",
      "113.02608695652174\n",
      "26.698275862068964\n",
      "26.73913043478261\n"
     ]
    }
   ],
   "source": [
    "print(np.mean(np.asarray(npal['Real X (um)'])))\n",
    "print(np.mean(np.asarray(blob['X'])))\n",
    "print(np.mean(np.asarray(npal['Real Y (um)'])))\n",
    "print(np.mean(np.asarray(blob['Y'])))\n",
    "print(np.mean(np.asarray(npal['Real Z (um)'])))\n",
    "print(np.mean(np.asarray(blob['Z'])))"
   ]
  },
  {
   "cell_type": "code",
   "execution_count": null,
   "metadata": {},
   "outputs": [],
   "source": []
  }
 ],
 "metadata": {
  "kernelspec": {
   "display_name": "eats-worm",
   "language": "python",
   "name": "eats-worm"
  },
  "language_info": {
   "codemirror_mode": {
    "name": "ipython",
    "version": 3
   },
   "file_extension": ".py",
   "mimetype": "text/x-python",
   "name": "python",
   "nbconvert_exporter": "python",
   "pygments_lexer": "ipython3",
   "version": "3.8.16"
  },
  "orig_nbformat": 4,
  "vscode": {
   "interpreter": {
    "hash": "9a246cbeb7e7d64baab736c5e4f8a8cf6205ec6202ebfe668ed4dad2c6630795"
   }
  }
 },
 "nbformat": 4,
 "nbformat_minor": 2
}
