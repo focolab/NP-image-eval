{
 "cells": [
  {
   "cell_type": "code",
   "execution_count": 2,
   "metadata": {},
   "outputs": [],
   "source": [
    "import pandas as pd\n",
    "import matplotlib.pyplot as plt\n",
    "import numpy as np\n",
    "import scipy.io as sio\n",
    "import utils.utils as uti\n",
    "import process.file as f\n",
    "import os\n",
    "import tifffile\n",
    "import cv2"
   ]
  },
  {
   "cell_type": "code",
   "execution_count": 3,
   "metadata": {},
   "outputs": [],
   "source": [
    "datapath = os.path.join('/Users', 'danielysprague', 'foco_lab', 'data')"
   ]
  },
  {
   "attachments": {},
   "cell_type": "markdown",
   "metadata": {},
   "source": [
    "### Checking image statistics"
   ]
  },
  {
   "cell_type": "code",
   "execution_count": 5,
   "metadata": {},
   "outputs": [],
   "source": [
    "def get_stats_FOCO(file):\n",
    "    df = pd.DataFrame()\n",
    "\n",
    "    imfile = sio.loadmat(file)\n",
    "\n",
    "    data = imfile['data']\n",
    "    channels = [0,1,2,3]\n",
    "    RGBW = np.squeeze(data[:,:,:, channels])\n",
    "\n",
    "    RGBW_flat = RGBW.reshape(-1, RGBW.shape[-1])\n",
    "\n",
    "    min = np.amin(RGBW, axis = (0,1,2))\n",
    "    max = np.amax(RGBW, axis = (0,1,2))\n",
    "    mean = np.mean(RGBW, axis = (0,1,2))\n",
    "    std = np.std(RGBW, axis = (0,1,2))\n",
    "    \n",
    "    print(std)\n",
    "\n",
    "    return min, max, mean, std"
   ]
  },
  {
   "cell_type": "code",
   "execution_count": 6,
   "metadata": {},
   "outputs": [
    {
     "ename": "FileNotFoundError",
     "evalue": "[Errno 2] No such file or directory: '/Users/danielysprague/foco_lab/data/Manual_annotate/20230506-12-56-00/Composite.mat'",
     "output_type": "error",
     "traceback": [
      "\u001b[0;31m---------------------------------------------------------------------------\u001b[0m",
      "\u001b[0;31mFileNotFoundError\u001b[0m                         Traceback (most recent call last)",
      "File \u001b[0;32m/Applications/anaconda3/envs/npex/lib/python3.10/site-packages/scipy/io/matlab/_mio.py:39\u001b[0m, in \u001b[0;36m_open_file\u001b[0;34m(file_like, appendmat, mode)\u001b[0m\n\u001b[1;32m     38\u001b[0m \u001b[39mtry\u001b[39;00m:\n\u001b[0;32m---> 39\u001b[0m     \u001b[39mreturn\u001b[39;00m \u001b[39mopen\u001b[39;49m(file_like, mode), \u001b[39mTrue\u001b[39;00m\n\u001b[1;32m     40\u001b[0m \u001b[39mexcept\u001b[39;00m \u001b[39mOSError\u001b[39;00m \u001b[39mas\u001b[39;00m e:\n\u001b[1;32m     41\u001b[0m     \u001b[39m# Probably \"not found\"\u001b[39;00m\n",
      "\u001b[0;31mFileNotFoundError\u001b[0m: [Errno 2] No such file or directory: '/Users/danielysprague/foco_lab/data/Manual_annotate/20230506-12-56-00/Composite.mat'",
      "\nDuring handling of the above exception, another exception occurred:\n",
      "\u001b[0;31mFileNotFoundError\u001b[0m                         Traceback (most recent call last)",
      "Cell \u001b[0;32mIn[6], line 1\u001b[0m\n\u001b[0;32m----> 1\u001b[0m get_stats_FOCO(datapath\u001b[39m+\u001b[39;49m\u001b[39m'\u001b[39;49m\u001b[39m/Manual_annotate/20230506-12-56-00/Composite.mat\u001b[39;49m\u001b[39m'\u001b[39;49m)\n",
      "Cell \u001b[0;32mIn[5], line 4\u001b[0m, in \u001b[0;36mget_stats_FOCO\u001b[0;34m(file)\u001b[0m\n\u001b[1;32m      1\u001b[0m \u001b[39mdef\u001b[39;00m \u001b[39mget_stats_FOCO\u001b[39m(file):\n\u001b[1;32m      2\u001b[0m     df \u001b[39m=\u001b[39m pd\u001b[39m.\u001b[39mDataFrame()\n\u001b[0;32m----> 4\u001b[0m     imfile \u001b[39m=\u001b[39m sio\u001b[39m.\u001b[39;49mloadmat(file)\n\u001b[1;32m      6\u001b[0m     data \u001b[39m=\u001b[39m imfile[\u001b[39m'\u001b[39m\u001b[39mdata\u001b[39m\u001b[39m'\u001b[39m]\n\u001b[1;32m      7\u001b[0m     channels \u001b[39m=\u001b[39m [\u001b[39m0\u001b[39m,\u001b[39m1\u001b[39m,\u001b[39m2\u001b[39m,\u001b[39m3\u001b[39m]\n",
      "File \u001b[0;32m/Applications/anaconda3/envs/npex/lib/python3.10/site-packages/scipy/io/matlab/_mio.py:225\u001b[0m, in \u001b[0;36mloadmat\u001b[0;34m(file_name, mdict, appendmat, **kwargs)\u001b[0m\n\u001b[1;32m     88\u001b[0m \u001b[39m\u001b[39m\u001b[39m\"\"\"\u001b[39;00m\n\u001b[1;32m     89\u001b[0m \u001b[39mLoad MATLAB file.\u001b[39;00m\n\u001b[1;32m     90\u001b[0m \n\u001b[0;32m   (...)\u001b[0m\n\u001b[1;32m    222\u001b[0m \u001b[39m    3.14159265+3.14159265j])\u001b[39;00m\n\u001b[1;32m    223\u001b[0m \u001b[39m\"\"\"\u001b[39;00m\n\u001b[1;32m    224\u001b[0m variable_names \u001b[39m=\u001b[39m kwargs\u001b[39m.\u001b[39mpop(\u001b[39m'\u001b[39m\u001b[39mvariable_names\u001b[39m\u001b[39m'\u001b[39m, \u001b[39mNone\u001b[39;00m)\n\u001b[0;32m--> 225\u001b[0m \u001b[39mwith\u001b[39;00m _open_file_context(file_name, appendmat) \u001b[39mas\u001b[39;00m f:\n\u001b[1;32m    226\u001b[0m     MR, _ \u001b[39m=\u001b[39m mat_reader_factory(f, \u001b[39m*\u001b[39m\u001b[39m*\u001b[39mkwargs)\n\u001b[1;32m    227\u001b[0m     matfile_dict \u001b[39m=\u001b[39m MR\u001b[39m.\u001b[39mget_variables(variable_names)\n",
      "File \u001b[0;32m/Applications/anaconda3/envs/npex/lib/python3.10/contextlib.py:135\u001b[0m, in \u001b[0;36m_GeneratorContextManager.__enter__\u001b[0;34m(self)\u001b[0m\n\u001b[1;32m    133\u001b[0m \u001b[39mdel\u001b[39;00m \u001b[39mself\u001b[39m\u001b[39m.\u001b[39margs, \u001b[39mself\u001b[39m\u001b[39m.\u001b[39mkwds, \u001b[39mself\u001b[39m\u001b[39m.\u001b[39mfunc\n\u001b[1;32m    134\u001b[0m \u001b[39mtry\u001b[39;00m:\n\u001b[0;32m--> 135\u001b[0m     \u001b[39mreturn\u001b[39;00m \u001b[39mnext\u001b[39;49m(\u001b[39mself\u001b[39;49m\u001b[39m.\u001b[39;49mgen)\n\u001b[1;32m    136\u001b[0m \u001b[39mexcept\u001b[39;00m \u001b[39mStopIteration\u001b[39;00m:\n\u001b[1;32m    137\u001b[0m     \u001b[39mraise\u001b[39;00m \u001b[39mRuntimeError\u001b[39;00m(\u001b[39m\"\u001b[39m\u001b[39mgenerator didn\u001b[39m\u001b[39m'\u001b[39m\u001b[39mt yield\u001b[39m\u001b[39m\"\u001b[39m) \u001b[39mfrom\u001b[39;00m \u001b[39mNone\u001b[39;00m\n",
      "File \u001b[0;32m/Applications/anaconda3/envs/npex/lib/python3.10/site-packages/scipy/io/matlab/_mio.py:17\u001b[0m, in \u001b[0;36m_open_file_context\u001b[0;34m(file_like, appendmat, mode)\u001b[0m\n\u001b[1;32m     15\u001b[0m \u001b[39m@contextmanager\u001b[39m\n\u001b[1;32m     16\u001b[0m \u001b[39mdef\u001b[39;00m \u001b[39m_open_file_context\u001b[39m(file_like, appendmat, mode\u001b[39m=\u001b[39m\u001b[39m'\u001b[39m\u001b[39mrb\u001b[39m\u001b[39m'\u001b[39m):\n\u001b[0;32m---> 17\u001b[0m     f, opened \u001b[39m=\u001b[39m _open_file(file_like, appendmat, mode)\n\u001b[1;32m     18\u001b[0m     \u001b[39mtry\u001b[39;00m:\n\u001b[1;32m     19\u001b[0m         \u001b[39myield\u001b[39;00m f\n",
      "File \u001b[0;32m/Applications/anaconda3/envs/npex/lib/python3.10/site-packages/scipy/io/matlab/_mio.py:45\u001b[0m, in \u001b[0;36m_open_file\u001b[0;34m(file_like, appendmat, mode)\u001b[0m\n\u001b[1;32m     43\u001b[0m     \u001b[39mif\u001b[39;00m appendmat \u001b[39mand\u001b[39;00m \u001b[39mnot\u001b[39;00m file_like\u001b[39m.\u001b[39mendswith(\u001b[39m'\u001b[39m\u001b[39m.mat\u001b[39m\u001b[39m'\u001b[39m):\n\u001b[1;32m     44\u001b[0m         file_like \u001b[39m+\u001b[39m\u001b[39m=\u001b[39m \u001b[39m'\u001b[39m\u001b[39m.mat\u001b[39m\u001b[39m'\u001b[39m\n\u001b[0;32m---> 45\u001b[0m     \u001b[39mreturn\u001b[39;00m \u001b[39mopen\u001b[39;49m(file_like, mode), \u001b[39mTrue\u001b[39;00m\n\u001b[1;32m     46\u001b[0m \u001b[39melse\u001b[39;00m:\n\u001b[1;32m     47\u001b[0m     \u001b[39mraise\u001b[39;00m \u001b[39mOSError\u001b[39;00m(\n\u001b[1;32m     48\u001b[0m         \u001b[39m'\u001b[39m\u001b[39mReader needs file name or open file-like object\u001b[39m\u001b[39m'\u001b[39m\n\u001b[1;32m     49\u001b[0m     ) \u001b[39mfrom\u001b[39;00m \u001b[39me\u001b[39;00m\n",
      "\u001b[0;31mFileNotFoundError\u001b[0m: [Errno 2] No such file or directory: '/Users/danielysprague/foco_lab/data/Manual_annotate/20230506-12-56-00/Composite.mat'"
     ]
    }
   ],
   "source": [
    "get_stats_FOCO(datapath+'/Manual_annotate/20230506-12-56-00/Composite.mat')"
   ]
  },
  {
   "attachments": {},
   "cell_type": "markdown",
   "metadata": {},
   "source": [
    "### Histogram Matching and Median Filtering"
   ]
  },
  {
   "cell_type": "code",
   "execution_count": 7,
   "metadata": {},
   "outputs": [],
   "source": [
    "def generate_histograms(image, scale):\n",
    "    \n",
    "    image = np.asarray(image)\n",
    "\n",
    "    im_flat = image.reshape(-1, image.shape[-1])\n",
    "\n",
    "    fig, axs = plt.subplots(2,2)\n",
    "\n",
    "    for i, ax1 in enumerate(axs):\n",
    "        for j, ax in enumerate(ax1):\n",
    "\n",
    "            hist, bins = np.histogram(im_flat[:,i*2+j], 256, [0, 256*scale] )\n",
    "            cdf = hist.cumsum()\n",
    "            cdf_normalized = cdf * hist.max()/cdf.max()\n",
    "            ax.axvline(np.max(im_flat[:,i*2+j]),linestyle='--') \n",
    "            ax.plot(cdf_normalized, color = 'b')\n",
    "            ax.hist(im_flat[:,i*2+j], bins= np.arange(256)*scale, color= 'red')\n",
    "            ax.set_xlabel('color channel gray count')\n",
    "            ax.set_ylabel('pixel count')\n",
    "            ax.set_xlim([0,256*scale])\n",
    "            ax.legend(('max value', 'cdf', 'hist'), loc = 'upper right')\n",
    "    \n",
    "    axs[0,0].set_title('red histogram')\n",
    "    axs[0,1].set_title('green histogram')\n",
    "    axs[1,0].set_title('blue histogram')\n",
    "    axs[1,1].set_title('white histogram')\n",
    "\n",
    "    plt.show()\n"
   ]
  },
  {
   "cell_type": "code",
   "execution_count": null,
   "metadata": {},
   "outputs": [],
   "source": []
  },
  {
   "cell_type": "code",
   "execution_count": 6,
   "metadata": {},
   "outputs": [],
   "source": [
    "def equalize_hist(RGBW, threshs):\n",
    "    '''\n",
    "    thresh defines value above which to perform the histogram equalization\n",
    "    loop through each pixel in image and transform based on histogram equalization\n",
    "    '''\n",
    "\n",
    "    size = RGBW.shape\n",
    "\n",
    "    RGBW_new = np.zeros(size)\n",
    "\n",
    "    flat = RGBW.reshape(-1, RGBW.shape[-1])\n",
    "\n",
    "    for l in range(size[3]):\n",
    "        channel = flat[:,l]\n",
    "\n",
    "        thresh = threshs[l]\n",
    "        \n",
    "        hist_to_eq = channel[np.where(channel>=thresh)]\n",
    "        N = len(hist_to_eq)\n",
    "        num_bins = 4096-thresh\n",
    "        hist, bins = np.histogram(hist_to_eq, num_bins, [thresh, 4096])\n",
    "        cdf = hist.cumsum()\n",
    "        \n",
    "        for i in range(size[0]):\n",
    "            for j in range(size[1]):\n",
    "                for k in range(size[2]):\n",
    "                        val = RGBW[i,j,k,l]\n",
    "\n",
    "                        if val >= thresh:\n",
    "                            val_index = np.where(bins==val)\n",
    "                            cum_prob = cdf[val_index]/N\n",
    "                            new_val = np.round(cum_prob*(num_bins-1))+thresh\n",
    "\n",
    "                            RGBW_new[i,j,k,l] = new_val\n",
    "                        \n",
    "                        else:\n",
    "                            RGBW_new[i,j,k,l] = val\n",
    "\n",
    "    return RGBW_new"
   ]
  },
  {
   "cell_type": "code",
   "execution_count": 3,
   "metadata": {},
   "outputs": [],
   "source": [
    "def match_histogram(A, ref, A_max, ref_max): \n",
    "    image = np.asarray(A)\n",
    "    ref_im = np.asarray(ref)\n",
    "\n",
    "    im_flat = image.reshape(-1, image.shape[-1]) #flatten images \n",
    "    ref_flat = ref_im.reshape(-1, ref_im.shape[-1])\n",
    "\n",
    "    newim = np.zeros(A.shape)\n",
    "\n",
    "    for l in range(image.shape[3]):\n",
    "        chan_flat = im_flat[:,l]\n",
    "        chan_ref_flat = ref_flat[:,l]\n",
    "\n",
    "        hist, bins = np.histogram(chan_flat, A_max, [0, A_max]) #generate histograms\n",
    "        refhist, refbins = np.histogram(chan_ref_flat, ref_max, [0,ref_max])\n",
    "\n",
    "        cdf = hist.cumsum()/ chan_flat.size # generate cdf of histograms\n",
    "        cdf_ref = refhist.cumsum()/ chan_ref_flat.size\n",
    "\n",
    "        M = np.zeros(A_max) \n",
    "\n",
    "        for idx in range(A_max):\n",
    "            ind = np.argmin(np.abs(cdf[idx]-cdf_ref)) # store pixel values with matching cdf from reference image\n",
    "            M[idx] = ind\n",
    "\n",
    "        for i in range(image.shape[0]):\n",
    "            for j in range(image.shape[1]):\n",
    "                for k in range(image.shape[2]):\n",
    "                    newim[i,j,k,l] = M[A[i,j,k,l]]\n",
    "\n",
    "    return newim.astype('uint16')"
   ]
  },
  {
   "cell_type": "code",
   "execution_count": 4,
   "metadata": {},
   "outputs": [],
   "source": [
    "def median_filter(im, size):\n",
    "    if size:\n",
    "        size = size\n",
    "    else:\n",
    "        size=3\n",
    "\n",
    "    for i in range(im.shape[2]):\n",
    "        for j in range(im.shape[3]):\n",
    "            im[:,:,i,j] = cv2.medianBlur(im[:,:,i,j], size)\n",
    "\n",
    "    return im\n"
   ]
  },
  {
   "cell_type": "code",
   "execution_count": 12,
   "metadata": {},
   "outputs": [
    {
     "ename": "FileNotFoundError",
     "evalue": "[Errno 2] No such file or directory: '/Users/danielysprague/foco_lab/data/Manual_annotate/20230322-22-43-03/composite.mat'",
     "output_type": "error",
     "traceback": [
      "\u001b[0;31m---------------------------------------------------------------------------\u001b[0m",
      "\u001b[0;31mFileNotFoundError\u001b[0m                         Traceback (most recent call last)",
      "File \u001b[0;32m/Applications/anaconda3/envs/eats-worm/lib/python3.11/site-packages/scipy/io/matlab/_mio.py:39\u001b[0m, in \u001b[0;36m_open_file\u001b[0;34m(file_like, appendmat, mode)\u001b[0m\n\u001b[1;32m     38\u001b[0m \u001b[39mtry\u001b[39;00m:\n\u001b[0;32m---> 39\u001b[0m     \u001b[39mreturn\u001b[39;00m \u001b[39mopen\u001b[39m(file_like, mode), \u001b[39mTrue\u001b[39;00m\n\u001b[1;32m     40\u001b[0m \u001b[39mexcept\u001b[39;00m \u001b[39mOSError\u001b[39;00m \u001b[39mas\u001b[39;00m e:\n\u001b[1;32m     41\u001b[0m     \u001b[39m# Probably \"not found\"\u001b[39;00m\n",
      "\u001b[0;31mFileNotFoundError\u001b[0m: [Errno 2] No such file or directory: '/Users/danielysprague/foco_lab/data/Manual_annotate/20230322-22-43-03/composite.mat'",
      "\nDuring handling of the above exception, another exception occurred:\n",
      "\u001b[0;31mFileNotFoundError\u001b[0m                         Traceback (most recent call last)",
      "Cell \u001b[0;32mIn[12], line 2\u001b[0m\n\u001b[1;32m      1\u001b[0m folder \u001b[39m=\u001b[39m \u001b[39m'\u001b[39m\u001b[39m20230322-22-43-03\u001b[39m\u001b[39m'\u001b[39m\n\u001b[0;32m----> 2\u001b[0m imfile \u001b[39m=\u001b[39m sio\u001b[39m.\u001b[39;49mloadmat(datapath \u001b[39m+\u001b[39;49m\u001b[39m'\u001b[39;49m\u001b[39m/Manual_annotate/\u001b[39;49m\u001b[39m'\u001b[39;49m\u001b[39m+\u001b[39;49mfolder\u001b[39m+\u001b[39;49m\u001b[39m'\u001b[39;49m\u001b[39m/composite.mat\u001b[39;49m\u001b[39m'\u001b[39;49m)\n\u001b[1;32m      4\u001b[0m data \u001b[39m=\u001b[39m imfile[\u001b[39m'\u001b[39m\u001b[39mdata\u001b[39m\u001b[39m'\u001b[39m]\n\u001b[1;32m      5\u001b[0m channels \u001b[39m=\u001b[39m [\u001b[39m0\u001b[39m,\u001b[39m1\u001b[39m,\u001b[39m2\u001b[39m,\u001b[39m3\u001b[39m]\n",
      "File \u001b[0;32m/Applications/anaconda3/envs/eats-worm/lib/python3.11/site-packages/scipy/io/matlab/_mio.py:224\u001b[0m, in \u001b[0;36mloadmat\u001b[0;34m(file_name, mdict, appendmat, **kwargs)\u001b[0m\n\u001b[1;32m     87\u001b[0m \u001b[39m\u001b[39m\u001b[39m\"\"\"\u001b[39;00m\n\u001b[1;32m     88\u001b[0m \u001b[39mLoad MATLAB file.\u001b[39;00m\n\u001b[1;32m     89\u001b[0m \n\u001b[0;32m   (...)\u001b[0m\n\u001b[1;32m    221\u001b[0m \u001b[39m    3.14159265+3.14159265j])\u001b[39;00m\n\u001b[1;32m    222\u001b[0m \u001b[39m\"\"\"\u001b[39;00m\n\u001b[1;32m    223\u001b[0m variable_names \u001b[39m=\u001b[39m kwargs\u001b[39m.\u001b[39mpop(\u001b[39m'\u001b[39m\u001b[39mvariable_names\u001b[39m\u001b[39m'\u001b[39m, \u001b[39mNone\u001b[39;00m)\n\u001b[0;32m--> 224\u001b[0m \u001b[39mwith\u001b[39;49;00m _open_file_context(file_name, appendmat) \u001b[39mas\u001b[39;49;00m f:\n\u001b[1;32m    225\u001b[0m     MR, _ \u001b[39m=\u001b[39;49m mat_reader_factory(f, \u001b[39m*\u001b[39;49m\u001b[39m*\u001b[39;49mkwargs)\n\u001b[1;32m    226\u001b[0m     matfile_dict \u001b[39m=\u001b[39;49m MR\u001b[39m.\u001b[39;49mget_variables(variable_names)\n",
      "File \u001b[0;32m/Applications/anaconda3/envs/eats-worm/lib/python3.11/contextlib.py:137\u001b[0m, in \u001b[0;36m_GeneratorContextManager.__enter__\u001b[0;34m(self)\u001b[0m\n\u001b[1;32m    135\u001b[0m \u001b[39mdel\u001b[39;00m \u001b[39mself\u001b[39m\u001b[39m.\u001b[39margs, \u001b[39mself\u001b[39m\u001b[39m.\u001b[39mkwds, \u001b[39mself\u001b[39m\u001b[39m.\u001b[39mfunc\n\u001b[1;32m    136\u001b[0m \u001b[39mtry\u001b[39;00m:\n\u001b[0;32m--> 137\u001b[0m     \u001b[39mreturn\u001b[39;00m \u001b[39mnext\u001b[39m(\u001b[39mself\u001b[39m\u001b[39m.\u001b[39mgen)\n\u001b[1;32m    138\u001b[0m \u001b[39mexcept\u001b[39;00m \u001b[39mStopIteration\u001b[39;00m:\n\u001b[1;32m    139\u001b[0m     \u001b[39mraise\u001b[39;00m \u001b[39mRuntimeError\u001b[39;00m(\u001b[39m\"\u001b[39m\u001b[39mgenerator didn\u001b[39m\u001b[39m'\u001b[39m\u001b[39mt yield\u001b[39m\u001b[39m\"\u001b[39m) \u001b[39mfrom\u001b[39;00m \u001b[39mNone\u001b[39;00m\n",
      "File \u001b[0;32m/Applications/anaconda3/envs/eats-worm/lib/python3.11/site-packages/scipy/io/matlab/_mio.py:17\u001b[0m, in \u001b[0;36m_open_file_context\u001b[0;34m(file_like, appendmat, mode)\u001b[0m\n\u001b[1;32m     15\u001b[0m \u001b[39m@contextmanager\u001b[39m\n\u001b[1;32m     16\u001b[0m \u001b[39mdef\u001b[39;00m \u001b[39m_open_file_context\u001b[39m(file_like, appendmat, mode\u001b[39m=\u001b[39m\u001b[39m'\u001b[39m\u001b[39mrb\u001b[39m\u001b[39m'\u001b[39m):\n\u001b[0;32m---> 17\u001b[0m     f, opened \u001b[39m=\u001b[39m _open_file(file_like, appendmat, mode)\n\u001b[1;32m     18\u001b[0m     \u001b[39mtry\u001b[39;00m:\n\u001b[1;32m     19\u001b[0m         \u001b[39myield\u001b[39;00m f\n",
      "File \u001b[0;32m/Applications/anaconda3/envs/eats-worm/lib/python3.11/site-packages/scipy/io/matlab/_mio.py:45\u001b[0m, in \u001b[0;36m_open_file\u001b[0;34m(file_like, appendmat, mode)\u001b[0m\n\u001b[1;32m     43\u001b[0m     \u001b[39mif\u001b[39;00m appendmat \u001b[39mand\u001b[39;00m \u001b[39mnot\u001b[39;00m file_like\u001b[39m.\u001b[39mendswith(\u001b[39m'\u001b[39m\u001b[39m.mat\u001b[39m\u001b[39m'\u001b[39m):\n\u001b[1;32m     44\u001b[0m         file_like \u001b[39m+\u001b[39m\u001b[39m=\u001b[39m \u001b[39m'\u001b[39m\u001b[39m.mat\u001b[39m\u001b[39m'\u001b[39m\n\u001b[0;32m---> 45\u001b[0m     \u001b[39mreturn\u001b[39;00m \u001b[39mopen\u001b[39m(file_like, mode), \u001b[39mTrue\u001b[39;00m\n\u001b[1;32m     46\u001b[0m \u001b[39melse\u001b[39;00m:\n\u001b[1;32m     47\u001b[0m     \u001b[39mraise\u001b[39;00m \u001b[39mOSError\u001b[39;00m(\n\u001b[1;32m     48\u001b[0m         \u001b[39m'\u001b[39m\u001b[39mReader needs file name or open file-like object\u001b[39m\u001b[39m'\u001b[39m\n\u001b[1;32m     49\u001b[0m     ) \u001b[39mfrom\u001b[39;00m \u001b[39me\u001b[39;00m\n",
      "\u001b[0;31mFileNotFoundError\u001b[0m: [Errno 2] No such file or directory: '/Users/danielysprague/foco_lab/data/Manual_annotate/20230322-22-43-03/composite.mat'"
     ]
    }
   ],
   "source": [
    "folder = '20230322-22-43-03'\n",
    "imfile = sio.loadmat(datapath +'/Manual_annotate/'+folder+'/composite.mat')\n",
    "\n",
    "data = imfile['data']\n",
    "channels = [0,1,2,3]\n",
    "RGBW = np.squeeze(data[:,:,:,channels])\n",
    "\n",
    "reffile = sio.loadmat(datapath +'/NP_paper/all/11_YAaLR.mat')\n",
    "refchannels = reffile['prefs']['RGBW'][0][0]-1\n",
    "refdata = reffile['data']\n",
    "refRGBW = np.squeeze(refdata[:,:,:,refchannels])\n",
    "\n",
    "newim = median_filter(RGBW, 3)\n",
    "newim = match_histogram(newim, refRGBW, 4096, 65536)\n",
    "\n",
    "sio.savemat(datapath+ '/Manual_annotate/'+folder+'/hist_med_image.mat', {'Hist_RGBW':newim})\n",
    "\n",
    "imfile = sio.loadmat(datapath+ '/Manual_annotate/'+folder+'/hist_med_image.mat')\n",
    "im = np.transpose(imfile['Hist_RGBW'],(2,3,0,1))\n",
    "im = im.astype('uint16')\n",
    "print(im.dtype)\n",
    "\n",
    "tifffile.imwrite(datapath + '/Manual_annotate/'+folder+'/hist_med_image.tif', im, imagej = True)\n",
    "\n",
    "\n"
   ]
  },
  {
   "cell_type": "code",
   "execution_count": null,
   "metadata": {},
   "outputs": [],
   "source": []
  },
  {
   "cell_type": "code",
   "execution_count": 8,
   "metadata": {},
   "outputs": [
    {
     "name": "stdout",
     "output_type": "stream",
     "text": [
      "20230904-14-30-52\n",
      "uint16\n",
      "20230904-15-09-05\n",
      "uint16\n",
      "20230904-15-59-40\n",
      "uint16\n",
      "20230909-14-26-56\n",
      "uint16\n",
      "20230909-15-40-07\n",
      "uint16\n",
      "20230909-16-48-09\n",
      "uint16\n"
     ]
    }
   ],
   "source": [
    "for folder in ['20230904-14-30-52', '20230904-15-09-05', '20230904-15-59-40', '20230909-14-26-56', '20230909-15-40-07', '20230909-16-48-09']:\n",
    "\n",
    "    print(folder)\n",
    "\n",
    "    imfile = sio.loadmat(datapath +'/Manual_annotate/'+folder+'/Composite.mat')\n",
    "\n",
    "    data = imfile['data']\n",
    "    channels = [0,1,2,3]\n",
    "    RGBW = np.squeeze(data[:,:,:,channels])\n",
    "\n",
    "    reffile = sio.loadmat(datapath +'/NP_paper/all/11_YAaLR.mat')\n",
    "    refchannels = reffile['prefs']['RGBW'][0][0]-1\n",
    "    refdata = reffile['data']\n",
    "    refRGBW = np.squeeze(refdata[:,:,:,refchannels])\n",
    "\n",
    "    newim = median_filter(RGBW, 3)\n",
    "    newim = match_histogram(newim, refRGBW, 4096, 65536)\n",
    "\n",
    "    sio.savemat(datapath+ '/Manual_annotate/'+folder+'/hist_med_image.mat', {'Hist_RGBW':newim})\n",
    "\n",
    "    imfile = sio.loadmat(datapath+ '/Manual_annotate/'+folder+'/hist_med_image.mat')\n",
    "    im = np.transpose(imfile['Hist_RGBW'],(2,3,0,1))\n",
    "    im = im.astype('uint16')\n",
    "    print(im.dtype)\n",
    "\n",
    "    tifffile.imwrite(datapath + '/Manual_annotate/'+folder+'/neuroPAL_image.tif', im, imagej = True)"
   ]
  },
  {
   "cell_type": "code",
   "execution_count": 132,
   "metadata": {},
   "outputs": [
    {
     "name": "stdout",
     "output_type": "stream",
     "text": [
      "uint16\n"
     ]
    }
   ],
   "source": [
    "newim = match_histogram(RGBW, refRGBW, 4096, 65536)\n",
    "\n",
    "sio.savemat(datapath+ '/NP_Ray/'+folder+'/hist_match_image.mat', {'Hist_RGBW':newim})\n",
    "\n",
    "imfile = sio.loadmat(datapath+ '/NP_Ray/'+folder+'/hist_match_image.mat')\n",
    "im = np.transpose(imfile['Hist_RGBW'],(2,3,0,1))\n",
    "im = im.astype('uint16')\n",
    "\n",
    "tifffile.imwrite(datapath + '/NP_Ray/'+folder+'/hist_match_image.tif', im, imagej = True)"
   ]
  },
  {
   "cell_type": "code",
   "execution_count": 141,
   "metadata": {},
   "outputs": [
    {
     "name": "stdout",
     "output_type": "stream",
     "text": [
      "uint16\n",
      "uint16\n",
      "uint16\n",
      "uint16\n",
      "uint16\n",
      "uint16\n",
      "uint16\n",
      "uint16\n",
      "uint16\n",
      "uint16\n"
     ]
    }
   ],
   "source": [
    "\n",
    "reffile = sio.loadmat(datapath +'/NP_paper/all/11_YAaLR.mat')\n",
    "refchannels = reffile['prefs']['RGBW'][0][0]-1\n",
    "refdata = reffile['data']\n",
    "refRGBW = np.squeeze(refdata[:,:,:,refchannels])\n",
    "\n",
    "for folder in os.listdir(datapath+'/NP_FOCO_cropped'):\n",
    "    if folder != \".DS_Store\":\n",
    "        imfile = sio.loadmat(datapath +'/NP_FOCO_cropped/'+folder+'/neuropal_1_MMStack_Pos0.ome.mat')\n",
    "\n",
    "        data = imfile['data']\n",
    "        channels = [0,2,4,1]\n",
    "        RGBW = np.squeeze(data[:,:,:,channels])\n",
    "\n",
    "        newim = median_filter(RGBW, 3)\n",
    "        newim = match_histogram(newim, refRGBW, 4096, 65536)\n",
    "\n",
    "        sio.savemat(datapath+ '/NP_FOCO_hist_med/'+folder+'/hist_med_image.mat', {'Hist_RGBW':newim})\n",
    "\n",
    "        imfile = sio.loadmat(datapath+ '/NP_FOCO_hist_med/'+folder+'/hist_med_image.mat')\n",
    "        im = np.transpose(imfile['Hist_RGBW'],(2,3,0,1))\n",
    "        im = im.astype('uint16')\n",
    "        print(im.dtype)\n",
    "\n",
    "        tifffile.imwrite(datapath + '/NP_FOCO_hist_med/'+folder+'/hist_med_image.tif', im, imagej = True)"
   ]
  },
  {
   "cell_type": "code",
   "execution_count": 143,
   "metadata": {},
   "outputs": [
    {
     "name": "stdout",
     "output_type": "stream",
     "text": [
      "(45, 4, 240, 1000)\n"
     ]
    },
    {
     "ename": "",
     "evalue": "",
     "output_type": "error",
     "traceback": [
      "\u001b[1;31mThe Kernel crashed while executing code in the the current cell or a previous cell. Please review the code in the cell(s) to identify a possible cause of the failure. Click <a href='https://aka.ms/vscodeJupyterKernelCrash'>here</a> for more info. View Jupyter <a href='command:jupyter.viewOutput'>log</a> for further details."
     ]
    }
   ],
   "source": [
    "print(im.shape)"
   ]
  },
  {
   "cell_type": "code",
   "execution_count": 9,
   "metadata": {},
   "outputs": [
    {
     "name": "stdout",
     "output_type": "stream",
     "text": [
      "2022-04-26-w00-NP1\n",
      "(240, 1000, 45, 6)\n",
      "2022-04-26-w01-NP1\n",
      "(240, 1000, 45, 9)\n",
      "2021-12-03-w00-NP1\n",
      "(240, 1000, 41, 6)\n",
      ".DS_Store\n",
      "2022-02-22-w04-NP1\n",
      "(240, 1000, 45, 6)\n",
      "2022-04-01-w00-NP1\n",
      "(240, 1000, 45, 6)\n",
      "2022-03-05-w00-NP1\n",
      "(240, 1000, 45, 6)\n",
      "2022-02-12-w00-NP1\n",
      "(240, 1000, 45, 6)\n",
      "2022-02-12-w01-NP1\n",
      "(240, 1000, 45, 6)\n",
      "2022-01-22-w04-NP1\n",
      "(240, 1000, 41, 6)\n",
      "2022-02-11-w03-NP1\n",
      "(240, 1000, 45, 6)\n"
     ]
    }
   ],
   "source": [
    "import os\n",
    "\n",
    "reffile = sio.loadmat(datapath +'/NP_paper/all/11_YAaLR.mat')\n",
    "refchannels = reffile['prefs']['RGBW'][0][0]-1\n",
    "newres = reffile['info']['scale'][0][0].flatten()\n",
    "refdata = reffile['data']\n",
    "refRGBW = np.squeeze(refdata[:,:,:,refchannels])\n",
    "\n",
    "for folder in os.listdir(datapath+'/preprocess'):\n",
    "    print(folder)\n",
    "    if folder != \".DS_Store\":\n",
    "        imfile = sio.loadmat(datapath +'/preprocess/'+folder+'/neuropal_1_MMStack_Pos0.ome.mat')\n",
    "        blobs = pd.read_csv(datapath +'/preprocess/'+folder+'/blobs.csv')\n",
    "\n",
    "        data = imfile['data']\n",
    "        oldres = imfile['info']['scale'][0][0].flatten()\n",
    "        channels = [0,2,4,1]\n",
    "        RGBW = np.squeeze(data[:,:,:,channels])\n",
    "\n",
    "        print(data.shape)\n",
    "\n",
    "        if not os.path.exists(datapath+'/preprocess/'+folder+'/resample.mat'):\n",
    "            zoomim = res.zoom_interpolate(newres, oldres, RGBW)\n",
    "\n",
    "            blobs['X'] = blobs['X']*oldres[0]/newres[0]\n",
    "            blobs['Y'] = blobs['Y']*oldres[1]/newres[1]\n",
    "            blobs['Z'] = blobs['Z']*oldres[2]/newres[2]\n",
    "\n",
    "            blobs.to_csv(datapath +'/preprocess/'+folder+'/new_blobs.csv')\n",
    "            sio.savemat(datapath+'/preprocess/'+folder+'/resample.mat',{'data':zoomim})\n",
    "\n",
    "        else:\n",
    "            zoomim = sio.loadmat(datapath+'/preprocess/'+folder+'/resample.mat')['data']\n",
    "\n",
    "        medim = median_filter(RGBW, 3)\n",
    "        sio.savemat(datapath+'/preprocess/'+folder+'/med.mat',{'data':medim})\n",
    "\n",
    "        histim = match_histogram(RGBW, refRGBW, np.amax(RGBW)+1, np.amax(refRGBW))\n",
    "        sio.savemat(datapath+'/preprocess/'+folder+'/hist.mat',{'data':histim})\n",
    "\n",
    "        histzoomim = match_histogram(zoomim, refRGBW,  np.amax(zoomim)+1, np.amax(refRGBW))\n",
    "        sio.savemat(datapath+'/preprocess/'+folder+'/histzoom.mat',{'data':histzoomim})\n",
    "\n",
    "        histmedim = match_histogram(medim, refRGBW,  np.amax(medim)+1, np.amax(refRGBW))\n",
    "        sio.savemat(datapath+'/preprocess/'+folder+'/histmed.mat',{'data':histmedim})\n",
    "\n",
    "        medzoomim = median_filter(zoomim, 3)\n",
    "        sio.savemat(datapath+'/preprocess/'+folder+'/medzoom.mat',{'data':medzoomim})\n",
    "\n",
    "        histmedzoomim = match_histogram(medzoomim, refRGBW,  np.amax(medzoomim)+1, np.amax(refRGBW))\n",
    "        sio.savemat(datapath+'/preprocess/'+folder+'/histmedzoom.mat',{'data':histmedzoomim})"
   ]
  },
  {
   "cell_type": "code",
   "execution_count": 8,
   "metadata": {},
   "outputs": [
    {
     "name": "stdout",
     "output_type": "stream",
     "text": [
      "[0.20756646 0.20756646 0.75      ]\n"
     ]
    }
   ],
   "source": [
    "reffile = sio.loadmat(datapath +'/NP_paper/all/11_YAaLR.mat')\n",
    "refchannels = reffile['prefs']['RGBW'][0][0]-1\n",
    "newres = reffile['info']['scale'][0][0].flatten()\n",
    "refdata = reffile['data']"
   ]
  },
  {
   "cell_type": "code",
   "execution_count": 18,
   "metadata": {},
   "outputs": [
    {
     "name": "stdout",
     "output_type": "stream",
     "text": [
      "3638\n",
      "65534\n",
      "789.7346852314815\n",
      "776.6867928693279\n"
     ]
    },
    {
     "ename": "",
     "evalue": "",
     "output_type": "error",
     "traceback": [
      "\u001b[1;31mThe Kernel crashed while executing code in the the current cell or a previous cell. Please review the code in the cell(s) to identify a possible cause of the failure. Click <a href='https://aka.ms/vscodeJupyterKernelCrash'>here</a> for more info. View Jupyter <a href='command:jupyter.viewOutput'>log</a> for further details."
     ]
    }
   ],
   "source": [
    "print(np.amax(zoomim))\n",
    "print(np.amax(histzoomim))\n",
    "print(np.mean(histim))\n",
    "print(np.mean(histzoomim))"
   ]
  },
  {
   "cell_type": "code",
   "execution_count": null,
   "metadata": {},
   "outputs": [],
   "source": [
    "imfile = sio.loadmat(datapath+'/preprocess/2022-02-12-w01-NP1/neuropal_1_MMStack_Pos0.ome.mat')\n",
    "data = imfile['data']\n",
    "oldres = imfile['info']['scale'][0][0].flatten()\n",
    "channels = [0,2,4,1]\n",
    "RGBW = np.squeeze(data[:,:,:,channels])\n",
    "\n",
    "zoomim = res.zoom_interpolate(newres, oldres, RGBW)"
   ]
  },
  {
   "cell_type": "markdown",
   "metadata": {},
   "source": [
    "### Convert to tiff"
   ]
  },
  {
   "cell_type": "code",
   "execution_count": 11,
   "metadata": {},
   "outputs": [
    {
     "name": "stdout",
     "output_type": "stream",
     "text": [
      "uint16\n",
      "uint16\n",
      "uint16\n",
      "uint16\n"
     ]
    }
   ],
   "source": [
    "for folder in os.listdir(datapath+'/Manual_annotate'):\n",
    "    if folder == '.DS_Store':\n",
    "        continue\n",
    "    if not os.path.exists(datapath+'/Manual_annotate/'+folder+'/neuroPAL_image.tif'):\n",
    "\n",
    "        imfile = sio.loadmat(datapath+'/Manual_annotate/'+folder+'/neuroPAL_image.mat')\n",
    "        im = np.transpose(imfile['data'],(2,3,0,1))\n",
    "        im = im.astype('uint16')\n",
    "        print(im.dtype)\n",
    "\n",
    "        tifffile.imwrite(datapath+'/Manual_annotate/'+folder+'/neuroPAL_image.tif', im, imagej = True)"
   ]
  },
  {
   "cell_type": "code",
   "execution_count": null,
   "metadata": {},
   "outputs": [],
   "source": [
    "imfile = sio.loadmat('data/NP_Ray/20220529-14-16-47/'+'hist_equal_image.mat')\n",
    "im = np.transpose(imfile['Hist_RGBW'],(2,3,0,1))\n",
    "im = im.astype('uint16')\n",
    "print(im.dtype)\n",
    "\n",
    "tifffile.imwrite('data/NP_Ray/20220529-14-16-47/'+'hist_equal_image.ome.tif', im, imagej = True)"
   ]
  },
  {
   "attachments": {},
   "cell_type": "markdown",
   "metadata": {},
   "source": [
    "### Update blobs.csv with new annotations"
   ]
  },
  {
   "cell_type": "code",
   "execution_count": 5,
   "metadata": {},
   "outputs": [],
   "source": [
    "for folder in os.listdir(datapath+'/Manual_annotate'):\n",
    "    if folder =='.DS_Store':\n",
    "        continue\n",
    "    for f in os.listdir(datapath+'/Manual_annotate/'+folder):\n",
    "        if f == 'neuroPAL_image.csv':\n",
    "            npal = pd.read_csv(datapath+'/Manual_annotate/'+folder+'/'+f, skiprows = 7)\n",
    "\n",
    "        elif f == 'blobs.csv':\n",
    "            blob = pd.read_csv(datapath+'/Manual_annotate/'+folder+'/'+f, index_col =0)\n",
    "        elif f == 'neuroPAL_image.mat':\n",
    "            imfile = sio.loadmat(datapath+'/Manual_annotate/'+folder+'/'+f)\n",
    "            sz = imfile['data'].shape\n",
    "            scale = np.asarray(imfile['info']['scale'][0][0]).flatten()\n",
    "\n",
    "    npal= npal[['Real X (um)', 'Real Y (um)', 'Real Z (um)', 'User ID']]\n",
    "    npal['Real X (um)'] = round(npal['Real X (um)']/scale[0])\n",
    "    npal['Real Y (um)'] = round(npal['Real Y (um)']/scale[1])\n",
    "    npal['Real Z (um)'] = round(npal['Real Z (um)']/scale[2])\n",
    "\n",
    "    npal['Real X (um)'] = npal['Real X (um)'].astype('int32')\n",
    "    npal['Real Y (um)'] = npal['Real Y (um)'].astype('int32')\n",
    "    npal['Real Z (um)'] = npal['Real Z (um)'].astype('int32')\n",
    "\n",
    "    revx = sz[1]+1- npal['Real X (um)']\n",
    "    revy = sz[0]+1- npal['Real Y (um)']\n",
    "    revz = sz[2]+1- npal['Real Z (um)']\n",
    "\n",
    "    if np.abs(np.mean(np.asarray(npal['Real X (um)']))-np.mean(np.asarray(blob['X'])))>np.abs(np.mean(np.asarray(revx))-np.mean(np.asarray(blob['X']))):\n",
    "        npal['Real X (um)'] = revx\n",
    "\n",
    "    if np.abs(np.mean(np.asarray(npal['Real Y (um)']))-np.mean(np.asarray(blob['Y'])))>np.abs(np.mean(np.asarray(revy))-np.mean(np.asarray(blob['Y']))):\n",
    "        npal['Real Y (um)'] = revy\n",
    "\n",
    "    if np.abs(np.mean(np.asarray(npal['Real Z (um)']))-np.mean(np.asarray(blob['Z'])))>np.abs(np.mean(np.asarray(revz))-np.mean(np.asarray(blob['Z']))):\n",
    "        npal['Real Z (um)'] = revz\n",
    "\n",
    "    npal = npal.rename(columns={'Real X (um)':'X', 'Real Y (um)':'Y', 'Real Z (um)': 'Z'})\n",
    "        \n",
    "    blobs_new = pd.merge(blob, npal, how='right', on=['X', 'Y', 'Z'])\n",
    "\n",
    "    blobs_new['status'] = blobs_new['status'].fillna(1.0)\n",
    "    blobs_new['prov'] = blobs_new['prov'].fillna('curated')\n",
    "    blobs_new = blobs_new.drop(columns=['ID'])\n",
    "    blobs_new = blobs_new.rename(columns={'User ID':'ID'})\n",
    "    blobs_new['blob'] = np.arange(len(blobs_new))\n",
    "\n",
    "    blobs_new.to_csv(datapath+'/Manual_annotate/'+folder+'/blobs.csv')\n",
    "    blobs_new.to_csv(datapath+'/to_upload/'+folder+'/blobs.csv')"
   ]
  },
  {
   "cell_type": "code",
   "execution_count": 120,
   "metadata": {},
   "outputs": [
    {
     "name": "stdout",
     "output_type": "stream",
     "text": [
      "(240, 1000, 48, 4)\n",
      "Y reverse\n",
      "Z reverse\n",
      "   Real X (um)  Real Y (um)  Real Z (um) User ID\n",
      "0          350          178           13     NaN\n",
      "1          376          154           13     NaN\n",
      "2          386          153           13     NaN\n",
      "3          402          189           26     NaN\n",
      "4          408          186           23     NaN\n",
      "     blob    X    Y   Z  status  ID      prov\n",
      "76     76  350  178  13       0 NaN  detected\n",
      "68     68  376  154  13       0 NaN  detected\n",
      "66     66  386  153  13       0 NaN  detected\n",
      "183   183  402  189  26       0 NaN  detected\n",
      "243   243  408  186  23       1 NaN   curated\n"
     ]
    }
   ],
   "source": [
    "folder = '20221106-21-23-19'\n",
    "for f in os.listdir(datapath+'/Manual_annotate/'+folder):\n",
    "    if f == 'neuroPAL_image.csv':\n",
    "        npal = pd.read_csv(datapath+'/Manual_annotate/'+folder+'/'+f, skiprows = 7)\n",
    "\n",
    "    elif f == 'blobs.csv':\n",
    "        blob = pd.read_csv(datapath+'/Manual_annotate/'+folder+'/'+f, index_col =0)\n",
    "\n",
    "    elif f == 'neuroPAL_image.mat':\n",
    "        imfile = sio.loadmat(datapath+'/Manual_annotate/'+folder+'/'+f)\n",
    "        sz = imfile['data'].shape\n",
    "        scale = np.asarray(imfile['info']['scale'][0][0]).flatten()\n",
    "        print(sz)\n",
    "\n",
    "npal= npal[['Real X (um)', 'Real Y (um)', 'Real Z (um)', 'User ID']]\n",
    "npal['Real X (um)'] = round(npal['Real X (um)']/scale[0])\n",
    "npal['Real Y (um)'] = round(npal['Real Y (um)']/scale[1])\n",
    "npal['Real Z (um)'] = round(npal['Real Z (um)']/scale[2])\n",
    "\n",
    "npal['Real X (um)'] = npal['Real X (um)'].astype('int32')\n",
    "npal['Real Y (um)'] = npal['Real Y (um)'].astype('int32')\n",
    "npal['Real Z (um)'] = npal['Real Z (um)'].astype('int32')\n",
    "\n",
    "revx = sz[1]+1- npal['Real X (um)']\n",
    "revy = sz[0]+1- npal['Real Y (um)']\n",
    "revz = sz[2]+1- npal['Real Z (um)']\n",
    "\n",
    "if np.abs(np.mean(np.asarray(npal['Real X (um)']))-np.mean(np.asarray(blob['X'])))>np.abs(np.mean(np.asarray(revx))-np.mean(np.asarray(blob['X']))):\n",
    "    npal['Real X (um)'] = revx\n",
    "    print('X reverse')\n",
    "\n",
    "if np.abs(np.mean(np.asarray(npal['Real Y (um)']))-np.mean(np.asarray(blob['Y'])))>np.abs(np.mean(np.asarray(revy))-np.mean(np.asarray(blob['Y']))):\n",
    "    npal['Real Y (um)'] = revy\n",
    "    print('Y reverse')\n",
    "\n",
    "if np.abs(np.mean(np.asarray(npal['Real Z (um)']))-np.mean(np.asarray(blob['Z'])))>np.abs(np.mean(np.asarray(revz))-np.mean(np.asarray(blob['Z']))):\n",
    "    npal['Real Z (um)'] = revz\n",
    "    print('Z reverse')\n",
    "\n",
    "print(npal.head())\n",
    "print(blob.head())"
   ]
  },
  {
   "cell_type": "code",
   "execution_count": 96,
   "metadata": {},
   "outputs": [
    {
     "data": {
      "text/html": [
       "<div>\n",
       "<style scoped>\n",
       "    .dataframe tbody tr th:only-of-type {\n",
       "        vertical-align: middle;\n",
       "    }\n",
       "\n",
       "    .dataframe tbody tr th {\n",
       "        vertical-align: top;\n",
       "    }\n",
       "\n",
       "    .dataframe thead th {\n",
       "        text-align: right;\n",
       "    }\n",
       "</style>\n",
       "<table border=\"1\" class=\"dataframe\">\n",
       "  <thead>\n",
       "    <tr style=\"text-align: right;\">\n",
       "      <th></th>\n",
       "      <th>blob</th>\n",
       "      <th>X</th>\n",
       "      <th>Y</th>\n",
       "      <th>Z</th>\n",
       "      <th>status</th>\n",
       "      <th>prov</th>\n",
       "      <th>ID</th>\n",
       "    </tr>\n",
       "  </thead>\n",
       "  <tbody>\n",
       "    <tr>\n",
       "      <th>0</th>\n",
       "      <td>NaN</td>\n",
       "      <td>317</td>\n",
       "      <td>224</td>\n",
       "      <td>20</td>\n",
       "      <td>1.0</td>\n",
       "      <td>curated</td>\n",
       "      <td>NaN</td>\n",
       "    </tr>\n",
       "    <tr>\n",
       "      <th>1</th>\n",
       "      <td>81.0</td>\n",
       "      <td>344</td>\n",
       "      <td>120</td>\n",
       "      <td>32</td>\n",
       "      <td>0.0</td>\n",
       "      <td>detected</td>\n",
       "      <td>NaN</td>\n",
       "    </tr>\n",
       "    <tr>\n",
       "      <th>2</th>\n",
       "      <td>82.0</td>\n",
       "      <td>345</td>\n",
       "      <td>161</td>\n",
       "      <td>32</td>\n",
       "      <td>0.0</td>\n",
       "      <td>detected</td>\n",
       "      <td>NaN</td>\n",
       "    </tr>\n",
       "    <tr>\n",
       "      <th>3</th>\n",
       "      <td>77.0</td>\n",
       "      <td>364</td>\n",
       "      <td>154</td>\n",
       "      <td>31</td>\n",
       "      <td>0.0</td>\n",
       "      <td>detected</td>\n",
       "      <td>NaN</td>\n",
       "    </tr>\n",
       "    <tr>\n",
       "      <th>4</th>\n",
       "      <td>54.0</td>\n",
       "      <td>364</td>\n",
       "      <td>93</td>\n",
       "      <td>26</td>\n",
       "      <td>0.0</td>\n",
       "      <td>detected</td>\n",
       "      <td>I3</td>\n",
       "    </tr>\n",
       "  </tbody>\n",
       "</table>\n",
       "</div>"
      ],
      "text/plain": [
       "   blob    X    Y   Z  status      prov   ID\n",
       "0   NaN  317  224  20     1.0   curated  NaN\n",
       "1  81.0  344  120  32     0.0  detected  NaN\n",
       "2  82.0  345  161  32     0.0  detected  NaN\n",
       "3  77.0  364  154  31     0.0  detected  NaN\n",
       "4  54.0  364   93  26     0.0  detected   I3"
      ]
     },
     "execution_count": 96,
     "metadata": {},
     "output_type": "execute_result"
    }
   ],
   "source": [
    "scale = [0.3208, 0.3208, 0.75]\n",
    "sz = [1000, 240, 48]\n",
    "\n",
    "npal = pd.read_csv(datapath+'/Manual_annotate/20221106-21-47-31/neuroPAL_image.csv', skiprows=7)\n",
    "npal= npal[['Real X (um)', 'Real Y (um)', 'Real Z (um)', 'User ID']]\n",
    "blob = pd.read_csv(datapath+'/Manual_annotate/20221106-21-47-31/blobs.csv', index_col=0)\n",
    "npal['Real X (um)'] = round(npal['Real X (um)']/scale[0])\n",
    "npal['Real Y (um)'] = round(npal['Real Y (um)']/scale[1])\n",
    "npal['Real Z (um)'] = round(npal['Real Z (um)']/scale[2])\n",
    "\n",
    "npal['Real X (um)'] = npal['Real X (um)'].astype('int32')\n",
    "npal['Real Y (um)'] = npal['Real Y (um)'].astype('int32')\n",
    "npal['Real Z (um)'] = npal['Real Z (um)'].astype('int32')\n",
    "\n",
    "revx = sz[0]+1- npal['Real X (um)']\n",
    "revy = sz[1]+1- npal['Real Y (um)']\n",
    "revz = sz[2]+1- npal['Real Z (um)']\n",
    "\n",
    "if np.abs(np.mean(np.asarray(npal['Real X (um)']))-np.mean(np.asarray(blob['X'])))>np.abs(np.mean(np.asarray(revx))-np.mean(np.asarray(blob['X']))):\n",
    "    npal['Real X (um)'] = revx\n",
    "\n",
    "if np.abs(np.mean(np.asarray(npal['Real Y (um)']))-np.mean(np.asarray(blob['Y'])))>np.abs(np.mean(np.asarray(revy))-np.mean(np.asarray(blob['Y']))):\n",
    "    npal['Real Y (um)'] = revy\n",
    "\n",
    "if np.abs(np.mean(np.asarray(npal['Real Z (um)']))-np.mean(np.asarray(blob['Z'])))>np.abs(np.mean(np.asarray(revz))-np.mean(np.asarray(blob['Z']))):\n",
    "    npal['Real Z (um)'] = revz\n",
    "\n",
    "npal = npal.rename(columns={'Real X (um)':'X', 'Real Y (um)':'Y', 'Real Z (um)': 'Z'})\n",
    "    \n",
    "blobs = pd.merge(blob, npal, how='right', on=['X', 'Y', 'Z'])\n",
    "\n",
    "blobs['status'] = blobs['status'].fillna(1.0)\n",
    "blobs['prov'] = blobs['prov'].fillna('curated')\n",
    "blobs = blobs.drop(columns=['ID'])\n",
    "blobs = blobs.rename(columns={'User ID':'ID'})\n",
    "\n",
    "blobs.to_csv(datapath+'/Manual_annotate/'+'20221106-21-47-31'+'/blobs_test.csv')\n",
    "\n",
    "blobs.head()\n",
    "#npal.head()\n"
   ]
  }
 ],
 "metadata": {
  "kernelspec": {
   "display_name": "eats-worm",
   "language": "python",
   "name": "python3"
  },
  "language_info": {
   "codemirror_mode": {
    "name": "ipython",
    "version": 3
   },
   "file_extension": ".py",
   "mimetype": "text/x-python",
   "name": "python",
   "nbconvert_exporter": "python",
   "pygments_lexer": "ipython3",
   "version": "3.11.4"
  },
  "orig_nbformat": 4
 },
 "nbformat": 4,
 "nbformat_minor": 2
}
